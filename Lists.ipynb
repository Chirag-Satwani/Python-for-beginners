{
 "cells": [
  {
   "cell_type": "markdown",
   "id": "cbb34926",
   "metadata": {},
   "source": [
    "## Lists"
   ]
  },
  {
   "cell_type": "markdown",
   "id": "d40f455f",
   "metadata": {},
   "source": [
    "  List Basics  \n",
    "  List operations  \n",
    "  List Comprehensions/Slicing  \n",
    "  List Methods"
   ]
  },
  {
   "cell_type": "markdown",
   "id": "963870ae",
   "metadata": {},
   "source": [
    "**List is just a collection of different types of objects.**"
   ]
  },
  {
   "cell_type": "code",
   "execution_count": 1,
   "id": "701e1115",
   "metadata": {},
   "outputs": [
    {
     "name": "stdout",
     "output_type": "stream",
     "text": [
      "[10, 20, 30, 40]\n",
      "<class 'list'>\n"
     ]
    }
   ],
   "source": [
    "l=[10,20,30,40]\n",
    "print(l)\n",
    "print(type(l))"
   ]
  },
  {
   "cell_type": "code",
   "execution_count": 2,
   "id": "dbfd0426",
   "metadata": {},
   "outputs": [
    {
     "name": "stdout",
     "output_type": "stream",
     "text": [
      "10\n",
      "True\n"
     ]
    },
    {
     "ename": "IndexError",
     "evalue": "list index out of range",
     "output_type": "error",
     "traceback": [
      "\u001b[1;31m---------------------------------------------------------------------------\u001b[0m",
      "\u001b[1;31mIndexError\u001b[0m                                Traceback (most recent call last)",
      "\u001b[1;32m~\\AppData\\Local\\Temp\\ipykernel_7312\\543216968.py\u001b[0m in \u001b[0;36m<module>\u001b[1;34m\u001b[0m\n\u001b[0;32m      2\u001b[0m \u001b[0mprint\u001b[0m\u001b[1;33m(\u001b[0m\u001b[0ml\u001b[0m\u001b[1;33m[\u001b[0m\u001b[1;36m0\u001b[0m\u001b[1;33m]\u001b[0m\u001b[1;33m)\u001b[0m\u001b[1;33m\u001b[0m\u001b[1;33m\u001b[0m\u001b[0m\n\u001b[0;32m      3\u001b[0m \u001b[0mprint\u001b[0m\u001b[1;33m(\u001b[0m\u001b[0ml\u001b[0m\u001b[1;33m[\u001b[0m\u001b[1;36m3\u001b[0m\u001b[1;33m]\u001b[0m\u001b[1;33m)\u001b[0m\u001b[1;33m\u001b[0m\u001b[1;33m\u001b[0m\u001b[0m\n\u001b[1;32m----> 4\u001b[1;33m \u001b[0mprint\u001b[0m\u001b[1;33m(\u001b[0m\u001b[0ml\u001b[0m\u001b[1;33m[\u001b[0m\u001b[1;36m5\u001b[0m\u001b[1;33m]\u001b[0m\u001b[1;33m)\u001b[0m\u001b[1;33m\u001b[0m\u001b[1;33m\u001b[0m\u001b[0m\n\u001b[0m",
      "\u001b[1;31mIndexError\u001b[0m: list index out of range"
     ]
    }
   ],
   "source": [
    "l=[10,\"Indore\",\"A\",True,10.5]\n",
    "print(l[0])\n",
    "print(l[3])\n",
    "print(l[5])\n"
   ]
  },
  {
   "cell_type": "code",
   "execution_count": null,
   "id": "2fa8ffe9",
   "metadata": {},
   "outputs": [],
   "source": [
    "print(type(l[0]))\n",
    "print(type(l[1]))"
   ]
  },
  {
   "cell_type": "code",
   "execution_count": null,
   "id": "184e3120",
   "metadata": {},
   "outputs": [],
   "source": [
    "l=[10,\"Indore\",\"A\",True,10.5,75,80]\n",
    "print(l)\n",
    "l[0]=\"goa\"\n",
    "print(l)"
   ]
  },
  {
   "cell_type": "markdown",
   "id": "1dea031b",
   "metadata": {},
   "source": [
    "**-ve index in list**"
   ]
  },
  {
   "cell_type": "code",
   "execution_count": null,
   "id": "7843e1ae",
   "metadata": {},
   "outputs": [],
   "source": [
    "#  -7    -6     -5  -4  -3   -2  -1 \n",
    "l=[10,\"Indore\",\"A\",True,10.5,75,80]\n",
    "#   0     1      2  3     4   5  6\n",
    "\n",
    "print(l[-1])\n",
    "print(l[6])\n",
    "print(l[0])\n",
    "print(l[-7])"
   ]
  },
  {
   "cell_type": "markdown",
   "id": "0251a10b",
   "metadata": {},
   "source": [
    "**List Slicing**"
   ]
  },
  {
   "cell_type": "code",
   "execution_count": null,
   "id": "898e3e53",
   "metadata": {},
   "outputs": [],
   "source": [
    "l=[10,20,22,45,14,11,88,99,100]\n",
    "print(l[2:6])"
   ]
  },
  {
   "cell_type": "code",
   "execution_count": null,
   "id": "ed102589",
   "metadata": {},
   "outputs": [],
   "source": [
    "print(l)"
   ]
  },
  {
   "cell_type": "markdown",
   "id": "174c2736",
   "metadata": {},
   "source": [
    "*it will not affect original list"
   ]
  },
  {
   "cell_type": "code",
   "execution_count": null,
   "id": "1e5fa3fc",
   "metadata": {},
   "outputs": [],
   "source": [
    "print(l[0:5])"
   ]
  },
  {
   "cell_type": "markdown",
   "id": "27288405",
   "metadata": {},
   "source": [
    "*it will not tak ending index into account for slicing"
   ]
  },
  {
   "cell_type": "code",
   "execution_count": null,
   "id": "887c0584",
   "metadata": {},
   "outputs": [],
   "source": [
    "print(l[5:9])"
   ]
  },
  {
   "cell_type": "code",
   "execution_count": null,
   "id": "27cff9d2",
   "metadata": {},
   "outputs": [],
   "source": [
    "print(l[6:15])"
   ]
  },
  {
   "cell_type": "code",
   "execution_count": null,
   "id": "092ef681",
   "metadata": {},
   "outputs": [],
   "source": [
    "print(l[4:1])"
   ]
  },
  {
   "cell_type": "code",
   "execution_count": null,
   "id": "48c44256",
   "metadata": {},
   "outputs": [],
   "source": [
    "print(l[ :4])"
   ]
  },
  {
   "cell_type": "code",
   "execution_count": null,
   "id": "523d01ad",
   "metadata": {},
   "outputs": [],
   "source": [
    "print(l[:])"
   ]
  },
  {
   "cell_type": "code",
   "execution_count": null,
   "id": "4351175a",
   "metadata": {},
   "outputs": [],
   "source": [
    "print(l[4:1])"
   ]
  },
  {
   "cell_type": "code",
   "execution_count": null,
   "id": "103916eb",
   "metadata": {},
   "outputs": [],
   "source": [
    "print(l[0:1])"
   ]
  },
  {
   "cell_type": "code",
   "execution_count": null,
   "id": "2299c52a",
   "metadata": {},
   "outputs": [],
   "source": [
    "print(l[0:0])"
   ]
  },
  {
   "cell_type": "code",
   "execution_count": null,
   "id": "47b2a4f6",
   "metadata": {},
   "outputs": [],
   "source": [
    "print(l[14: ])"
   ]
  },
  {
   "cell_type": "code",
   "execution_count": null,
   "id": "bcafdf7d",
   "metadata": {},
   "outputs": [],
   "source": [
    "y=[]\n",
    "print(y)\n",
    "print(type(y))\n"
   ]
  },
  {
   "cell_type": "markdown",
   "id": "26c149cf",
   "metadata": {},
   "source": [
    "*generally list slicing does not generate errors**"
   ]
  },
  {
   "cell_type": "markdown",
   "id": "316eb8f3",
   "metadata": {},
   "source": [
    "**-ve index slicing**"
   ]
  },
  {
   "cell_type": "code",
   "execution_count": null,
   "id": "8fad81b2",
   "metadata": {},
   "outputs": [],
   "source": [
    "#  -9 -8 -7 -6 -5 -4 -3 -2 -1\n",
    "l=[10,20,22,45,14,11,88,99,100]\n",
    "#   1  2  3  4  5  6  7  8  9\n",
    "\n",
    "print(l[2:6])"
   ]
  },
  {
   "cell_type": "code",
   "execution_count": null,
   "id": "067ed0c7",
   "metadata": {},
   "outputs": [],
   "source": [
    "print(l[1:4])"
   ]
  },
  {
   "cell_type": "code",
   "execution_count": null,
   "id": "5df79250",
   "metadata": {},
   "outputs": [],
   "source": [
    "print(l[4:1])"
   ]
  },
  {
   "cell_type": "code",
   "execution_count": null,
   "id": "0b6f2804",
   "metadata": {},
   "outputs": [],
   "source": [
    "print(l[-4:-1])"
   ]
  },
  {
   "cell_type": "code",
   "execution_count": null,
   "id": "1773fecb",
   "metadata": {},
   "outputs": [],
   "source": [
    "print(l[-1:-5])"
   ]
  },
  {
   "cell_type": "code",
   "execution_count": null,
   "id": "d0c8e355",
   "metadata": {},
   "outputs": [],
   "source": [
    "print(l[0:-1])"
   ]
  },
  {
   "cell_type": "code",
   "execution_count": null,
   "id": "a76b9b04",
   "metadata": {},
   "outputs": [],
   "source": [
    "print(l[-9:-7])"
   ]
  },
  {
   "cell_type": "code",
   "execution_count": null,
   "id": "c41a050e",
   "metadata": {},
   "outputs": [],
   "source": [
    "print(l[-6:-15])"
   ]
  },
  {
   "cell_type": "code",
   "execution_count": null,
   "id": "8f9d85d9",
   "metadata": {},
   "outputs": [],
   "source": [
    "print(l[-14:-1])"
   ]
  },
  {
   "cell_type": "code",
   "execution_count": null,
   "id": "5c32d6f0",
   "metadata": {},
   "outputs": [],
   "source": [
    "print(l[-14])"
   ]
  },
  {
   "cell_type": "markdown",
   "id": "5c761fcc",
   "metadata": {},
   "source": [
    "**Steps (in list slicing)**"
   ]
  },
  {
   "cell_type": "code",
   "execution_count": null,
   "id": "0dcb3721",
   "metadata": {},
   "outputs": [],
   "source": [
    "#  -9 -8 -7 -6 -5 -4 -3 -2 -1\n",
    "l=[10,20,22,45,14,11,88,99,100]\n",
    "#   1  2  3  4  5  6  7  8  9\n",
    "\n",
    "print(l[ : : ])"
   ]
  },
  {
   "cell_type": "code",
   "execution_count": null,
   "id": "93c72fa4",
   "metadata": {},
   "outputs": [],
   "source": [
    "print(l[ : :2])"
   ]
  },
  {
   "cell_type": "code",
   "execution_count": null,
   "id": "857c62b1",
   "metadata": {},
   "outputs": [],
   "source": [
    "print(l[ :8:2])"
   ]
  },
  {
   "cell_type": "code",
   "execution_count": null,
   "id": "d288de99",
   "metadata": {},
   "outputs": [],
   "source": [
    "print(l[1:7:3])"
   ]
  },
  {
   "cell_type": "code",
   "execution_count": null,
   "id": "de6a3e24",
   "metadata": {},
   "outputs": [],
   "source": [
    "print(l[-9:-3:1])"
   ]
  },
  {
   "cell_type": "code",
   "execution_count": null,
   "id": "40a969fe",
   "metadata": {},
   "outputs": [],
   "source": [
    "print(l[-7:-1:0])"
   ]
  },
  {
   "cell_type": "markdown",
   "id": "ead8cdd6",
   "metadata": {},
   "source": [
    "* direction in list slicing *\n",
    "if we wants to run it from right to left then follow -ve steps"
   ]
  },
  {
   "cell_type": "code",
   "execution_count": null,
   "id": "1e0a6ee0",
   "metadata": {},
   "outputs": [],
   "source": [
    "#  -9 -8 -7 -6 -5 -4 -3 -2 -1\n",
    "l=[10,20,22,45,14,11,88,99,100]\n",
    "#   1  2  3  4  5  6  7  8  9\n",
    "\n",
    "print(l[4:1:-1])"
   ]
  },
  {
   "cell_type": "code",
   "execution_count": null,
   "id": "91d9c478",
   "metadata": {},
   "outputs": [],
   "source": [
    "print(l[5:-6:-1])"
   ]
  },
  {
   "cell_type": "code",
   "execution_count": null,
   "id": "d0b4213e",
   "metadata": {},
   "outputs": [],
   "source": [
    "print(l[4:-1:-1])"
   ]
  },
  {
   "cell_type": "code",
   "execution_count": null,
   "id": "88e8b3d1",
   "metadata": {},
   "outputs": [],
   "source": [
    "print(l[-1:-9:-2])"
   ]
  },
  {
   "cell_type": "code",
   "execution_count": null,
   "id": "7f76daeb",
   "metadata": {},
   "outputs": [],
   "source": [
    "print(l[1:-9:2])"
   ]
  },
  {
   "cell_type": "code",
   "execution_count": null,
   "id": "4550469b",
   "metadata": {},
   "outputs": [],
   "source": [
    "print(l[ : :-1])"
   ]
  },
  {
   "cell_type": "markdown",
   "id": "f5f43bb2",
   "metadata": {},
   "source": [
    "# List functions"
   ]
  },
  {
   "cell_type": "code",
   "execution_count": null,
   "id": "d7e1a868",
   "metadata": {},
   "outputs": [],
   "source": [
    "n=[10,33,15,66,7]\n",
    "print(len(n))"
   ]
  },
  {
   "cell_type": "code",
   "execution_count": null,
   "id": "444e2644",
   "metadata": {},
   "outputs": [],
   "source": [
    "# index of last element\n",
    "print(len(n)-1)"
   ]
  },
  {
   "cell_type": "code",
   "execution_count": null,
   "id": "297c2553",
   "metadata": {},
   "outputs": [],
   "source": [
    "# summation\n",
    "print(sum(n))"
   ]
  },
  {
   "cell_type": "code",
   "execution_count": null,
   "id": "036d6713",
   "metadata": {},
   "outputs": [],
   "source": [
    "n=[\"A\",10,20,\"Indore\"]\n",
    "print(len(n))"
   ]
  },
  {
   "cell_type": "code",
   "execution_count": null,
   "id": "a2cdc77b",
   "metadata": {},
   "outputs": [],
   "source": [
    "print(sum(n))"
   ]
  },
  {
   "cell_type": "code",
   "execution_count": null,
   "id": "6cfb7a87",
   "metadata": {},
   "outputs": [],
   "source": [
    "\"A\"+\"V\""
   ]
  },
  {
   "cell_type": "code",
   "execution_count": null,
   "id": "dd861fd3",
   "metadata": {},
   "outputs": [],
   "source": [
    "h=[\"A\",\"B\",\"C\"]\n",
    "print(sum(h))"
   ]
  },
  {
   "cell_type": "code",
   "execution_count": null,
   "id": "ca211cc7",
   "metadata": {},
   "outputs": [],
   "source": [
    "h=[10,20,30,55]\n",
    "\n",
    "#max function:-\n",
    "print(max(h))"
   ]
  },
  {
   "cell_type": "code",
   "execution_count": null,
   "id": "d36afe5f",
   "metadata": {},
   "outputs": [],
   "source": [
    "# min function:-\n",
    "print(min(h))"
   ]
  },
  {
   "cell_type": "code",
   "execution_count": null,
   "id": "d10cafdb",
   "metadata": {},
   "outputs": [],
   "source": [
    "h=[10,\"A\"]\n",
    "print(max(h))"
   ]
  },
  {
   "cell_type": "code",
   "execution_count": null,
   "id": "5c9f7183",
   "metadata": {},
   "outputs": [],
   "source": [
    "h=[\"B\",\"A\"]\n",
    "print(max(h))"
   ]
  },
  {
   "cell_type": "code",
   "execution_count": null,
   "id": "6f69d0ca",
   "metadata": {},
   "outputs": [],
   "source": [
    "'hi'*3"
   ]
  },
  {
   "cell_type": "code",
   "execution_count": null,
   "id": "9121947b",
   "metadata": {},
   "outputs": [],
   "source": [
    "h=[\"aB\",\"aC\"]\n",
    "print(max(h))"
   ]
  },
  {
   "cell_type": "code",
   "execution_count": null,
   "id": "bf873a52",
   "metadata": {},
   "outputs": [],
   "source": [
    "h=[\"B\",\"B\"]\n",
    "print(max(h))"
   ]
  },
  {
   "cell_type": "markdown",
   "id": "8ad6a520",
   "metadata": {},
   "source": [
    "# List Methods"
   ]
  },
  {
   "cell_type": "code",
   "execution_count": null,
   "id": "9fe137e8",
   "metadata": {},
   "outputs": [],
   "source": [
    "#class list{ \n",
    "#            append()\n",
    "#           index()\n",
    " #           }"
   ]
  },
  {
   "cell_type": "code",
   "execution_count": null,
   "id": "c2a9d880",
   "metadata": {},
   "outputs": [],
   "source": [
    "a=[1,2,3]\n",
    "print(type(a))"
   ]
  },
  {
   "cell_type": "code",
   "execution_count": null,
   "id": "9ac7ad21",
   "metadata": {},
   "outputs": [],
   "source": [
    "help(list)"
   ]
  },
  {
   "cell_type": "markdown",
   "id": "96887fe3",
   "metadata": {},
   "source": [
    "**append method**"
   ]
  },
  {
   "cell_type": "code",
   "execution_count": null,
   "id": "f894b7bf",
   "metadata": {},
   "outputs": [],
   "source": [
    "l=[\"A\",10,81,\"Indore\"]\n",
    "\n",
    "# since, append method is a method of a list class. sp, you have to access it first\n",
    "l.append(\"goa\")\n",
    "print(l)"
   ]
  },
  {
   "cell_type": "code",
   "execution_count": null,
   "id": "6369fffe",
   "metadata": {},
   "outputs": [],
   "source": [
    "# we can access the method by calling class name.metod\n",
    "\n",
    "print(l[-1])"
   ]
  },
  {
   "cell_type": "code",
   "execution_count": null,
   "id": "249945b0",
   "metadata": {},
   "outputs": [],
   "source": [
    "len(l)"
   ]
  },
  {
   "cell_type": "code",
   "execution_count": null,
   "id": "d4d49407",
   "metadata": {},
   "outputs": [],
   "source": [
    "l.append([1,2,3,4])\n",
    "print(l[5])"
   ]
  },
  {
   "cell_type": "markdown",
   "id": "ab8e59be",
   "metadata": {},
   "source": [
    "**Insert method**"
   ]
  },
  {
   "cell_type": "code",
   "execution_count": null,
   "id": "55dd9837",
   "metadata": {},
   "outputs": [],
   "source": [
    "l=[11,21,31,43,54]\n",
    "\n",
    "l.insert(2,50)\n",
    "print(l)"
   ]
  },
  {
   "cell_type": "code",
   "execution_count": null,
   "id": "14d39e2b",
   "metadata": {},
   "outputs": [],
   "source": [
    "# as here is no replace method , \n",
    "l[2]=10\n",
    "print(l)"
   ]
  },
  {
   "cell_type": "code",
   "execution_count": null,
   "id": "a7127176",
   "metadata": {},
   "outputs": [],
   "source": [
    "l=[11,21,31,43,54]\n",
    "l.insert(10,555)\n",
    "print(l)\n",
    "\n",
    "# it will consider last string as index is out of range"
   ]
  },
  {
   "cell_type": "code",
   "execution_count": null,
   "id": "0353f292",
   "metadata": {},
   "outputs": [],
   "source": [
    "l.insert(0,50)\n",
    "print(l)"
   ]
  },
  {
   "cell_type": "markdown",
   "id": "09d440b5",
   "metadata": {},
   "source": [
    "**Index method**"
   ]
  },
  {
   "cell_type": "code",
   "execution_count": null,
   "id": "f15b2109",
   "metadata": {},
   "outputs": [],
   "source": [
    "l=[11,21,31,43,54]\n",
    "print(l.index(11))"
   ]
  },
  {
   "cell_type": "code",
   "execution_count": null,
   "id": "9e276e08",
   "metadata": {},
   "outputs": [],
   "source": [
    "print(l.index(31))"
   ]
  },
  {
   "cell_type": "code",
   "execution_count": null,
   "id": "7bf2ad77",
   "metadata": {},
   "outputs": [],
   "source": [
    "print(l.index(100))"
   ]
  },
  {
   "cell_type": "code",
   "execution_count": null,
   "id": "7ba36d98",
   "metadata": {},
   "outputs": [],
   "source": [
    "l=[11,21,31,43,54,31,43,31]\n",
    "print(l.index(31))"
   ]
  },
  {
   "cell_type": "code",
   "execution_count": null,
   "id": "1f2ea881",
   "metadata": {},
   "outputs": [],
   "source": [
    "print(l.index(31,3))"
   ]
  },
  {
   "cell_type": "code",
   "execution_count": null,
   "id": "78ea92e5",
   "metadata": {},
   "outputs": [],
   "source": [
    "help(l.index)"
   ]
  },
  {
   "cell_type": "code",
   "execution_count": null,
   "id": "bf272a3c",
   "metadata": {},
   "outputs": [],
   "source": [
    "print(l.index(31,6))"
   ]
  },
  {
   "cell_type": "code",
   "execution_count": null,
   "id": "67ba717d",
   "metadata": {},
   "outputs": [],
   "source": [
    "l=[11,21,31,43,54,31,43,31]\n",
    "print(l.index(31,l.index(31)+1))"
   ]
  },
  {
   "cell_type": "markdown",
   "id": "50ae92cf",
   "metadata": {},
   "source": [
    "**Count method**"
   ]
  },
  {
   "cell_type": "code",
   "execution_count": null,
   "id": "69ea45e1",
   "metadata": {},
   "outputs": [],
   "source": [
    "l=[11,21,31,43,54,31,43,31]\n",
    "print(l.count(43))"
   ]
  },
  {
   "cell_type": "code",
   "execution_count": null,
   "id": "b2b6a830",
   "metadata": {},
   "outputs": [],
   "source": [
    "print(l.count(100))"
   ]
  },
  {
   "cell_type": "markdown",
   "id": "9f146606",
   "metadata": {},
   "source": [
    "**Remove method**"
   ]
  },
  {
   "cell_type": "code",
   "execution_count": null,
   "id": "0ce10de2",
   "metadata": {},
   "outputs": [],
   "source": [
    "l=[11,21,31,43,54,31,43,31]\n",
    "l.remove(31)\n",
    "print(l)"
   ]
  },
  {
   "cell_type": "code",
   "execution_count": null,
   "id": "39d96bad",
   "metadata": {},
   "outputs": [],
   "source": [
    "help(l.remove)"
   ]
  },
  {
   "cell_type": "markdown",
   "id": "f90d8695",
   "metadata": {},
   "source": [
    "**Reverse Method**"
   ]
  },
  {
   "cell_type": "code",
   "execution_count": null,
   "id": "a88413c4",
   "metadata": {},
   "outputs": [],
   "source": [
    "l=[1,2,3,4,5]\n",
    "print(l[ : :-1])   #it doe not change original data\n"
   ]
  },
  {
   "cell_type": "code",
   "execution_count": null,
   "id": "b3385ca2",
   "metadata": {},
   "outputs": [],
   "source": [
    "l.reverse()\n",
    "print(l)"
   ]
  },
  {
   "cell_type": "markdown",
   "id": "77b92de4",
   "metadata": {},
   "source": [
    "# Questions"
   ]
  },
  {
   "cell_type": "markdown",
   "id": "c7773e9a",
   "metadata": {},
   "source": [
    "Q1.\n",
    "W.a.p to enter 5 values from user and append them into a list and print the list."
   ]
  },
  {
   "cell_type": "code",
   "execution_count": null,
   "id": "f9a9cb04",
   "metadata": {},
   "outputs": [],
   "source": [
    "l=[]\n",
    "i=1\n",
    "while i<=5:\n",
    "    n=int(input(\"Enter a value:\"))\n",
    "    l.append(n)\n",
    "    i+=1\n",
    "print(l)\n",
    "    "
   ]
  },
  {
   "cell_type": "markdown",
   "id": "2e30b882",
   "metadata": {},
   "source": [
    "Q2. W.a.p to enter 5 values from user and append them into a list and print sum of them. "
   ]
  },
  {
   "cell_type": "code",
   "execution_count": null,
   "id": "96143221",
   "metadata": {},
   "outputs": [],
   "source": [
    "l=[]\n",
    "i=1\n",
    "while i<=5:\n",
    "    n=int(input(\"enter a value:\"))\n",
    "    l.append(n)\n",
    "    i+=1\n",
    "print(sum(l))"
   ]
  },
  {
   "cell_type": "markdown",
   "id": "8fe61ab5",
   "metadata": {},
   "source": [
    "Q3. W.a.pto enter 5 values from the user and append them into a list and print sum without using sum function."
   ]
  },
  {
   "cell_type": "code",
   "execution_count": null,
   "id": "c2af3c25",
   "metadata": {},
   "outputs": [],
   "source": [
    "l=[]\n",
    "i=1\n",
    "s=0\n",
    "while i<=5:\n",
    "    n=int(input(\"Enter a value:\"))\n",
    "    l.append(n)\n",
    "    s=s+n\n",
    "    i+=1\n",
    "print(s)\n"
   ]
  },
  {
   "cell_type": "markdown",
   "id": "2141997f",
   "metadata": {},
   "source": [
    "Q4. W.a.p to enter and print max element of a list."
   ]
  },
  {
   "cell_type": "code",
   "execution_count": null,
   "id": "fbaef9c9",
   "metadata": {},
   "outputs": [],
   "source": [
    "l=[]\n",
    "i=0\n",
    "while True:\n",
    "    n=int(input(\"enter a value:\"))\n",
    "    l.append(n)\n",
    "    Q=input(\"want to quit? press yes otherwise press any key\")\n",
    "    if Q=='yes':\n",
    "        break\n",
    "print(len(l))"
   ]
  },
  {
   "cell_type": "markdown",
   "id": "2361d956",
   "metadata": {},
   "source": [
    "Q5. W.a.p to enter and print max element of a list"
   ]
  },
  {
   "cell_type": "code",
   "execution_count": null,
   "id": "4b592fbd",
   "metadata": {},
   "outputs": [],
   "source": [
    "l=[]\n",
    "i=0\n",
    "while True:\n",
    "    n=int(input(\"enter a value:\"))\n",
    "    l.append(n)\n",
    "    Q=input(\"want to quit? press yes otherwise press any key\")\n",
    "    if Q=='yes':\n",
    "        break\n",
    "print(max(l))"
   ]
  },
  {
   "cell_type": "markdown",
   "id": "16dcd04b",
   "metadata": {},
   "source": [
    "Q5. W.a.p. to enter and print minimum element of a list."
   ]
  },
  {
   "cell_type": "code",
   "execution_count": null,
   "id": "0d943c64",
   "metadata": {},
   "outputs": [],
   "source": [
    "l=[]\n",
    "i=0\n",
    "while True:\n",
    "    n=int(input(\"enter a value:\"))\n",
    "    l.append(n)\n",
    "    Q=input(\"want to quit? press yes otherwise press any key\")\n",
    "    if Q=='yes':\n",
    "        break\n",
    "print(min(l))"
   ]
  },
  {
   "cell_type": "markdown",
   "id": "87f7a928",
   "metadata": {},
   "source": [
    "# Algorithm Question"
   ]
  },
  {
   "cell_type": "markdown",
   "id": "89e2b327",
   "metadata": {},
   "source": [
    "W.a.p to print the sum between 1 to 1000 which are only divisible by 3 or 5 and not by 3 and 5."
   ]
  },
  {
   "cell_type": "code",
   "execution_count": 5,
   "id": "de4f7cf9",
   "metadata": {
    "scrolled": true
   },
   "outputs": [
    {
     "name": "stdout",
     "output_type": "stream",
     "text": [
      "200003\n"
     ]
    }
   ],
   "source": [
    "i=1\n",
    "s=0\n",
    "while i<1000:\n",
    "    if i%3==0 and i%5==0:\n",
    "        i+=1\n",
    "        continue\n",
    "    elif i%3==0 or i%5 ==0:\n",
    "        s=s+i\n",
    "    i+=1\n",
    "print(s)"
   ]
  },
  {
   "cell_type": "code",
   "execution_count": null,
   "id": "a2ff5a37",
   "metadata": {},
   "outputs": [],
   "source": []
  },
  {
   "cell_type": "code",
   "execution_count": null,
   "id": "43526349",
   "metadata": {},
   "outputs": [],
   "source": []
  }
 ],
 "metadata": {
  "kernelspec": {
   "display_name": "Python 3 (ipykernel)",
   "language": "python",
   "name": "python3"
  },
  "language_info": {
   "codemirror_mode": {
    "name": "ipython",
    "version": 3
   },
   "file_extension": ".py",
   "mimetype": "text/x-python",
   "name": "python",
   "nbconvert_exporter": "python",
   "pygments_lexer": "ipython3",
   "version": "3.9.13"
  }
 },
 "nbformat": 4,
 "nbformat_minor": 5
}
