{
 "cells": [
  {
   "cell_type": "markdown",
   "id": "971c341e",
   "metadata": {},
   "source": [
    "# Functions"
   ]
  },
  {
   "cell_type": "markdown",
   "id": "f5e7b651",
   "metadata": {},
   "source": [
    "We can divide our code in small chunks and we can use it as per our requirement."
   ]
  },
  {
   "cell_type": "code",
   "execution_count": 2,
   "id": "75da3fca",
   "metadata": {},
   "outputs": [
    {
     "name": "stdout",
     "output_type": "stream",
     "text": [
      "Hello\n",
      "Bye\n"
     ]
    }
   ],
   "source": [
    "def myfunction():                         # definition of function\n",
    "    print(\"Hello\")\n",
    "    print(\"Bye\")\n",
    "\n",
    "myfunction()                              # calling of a function"
   ]
  },
  {
   "cell_type": "markdown",
   "id": "3744202b",
   "metadata": {},
   "source": [
    "*name of function should not contain any special characters"
   ]
  },
  {
   "cell_type": "code",
   "execution_count": 3,
   "id": "0ee05d3f",
   "metadata": {},
   "outputs": [
    {
     "name": "stdout",
     "output_type": "stream",
     "text": [
      "<class 'function'>\n"
     ]
    }
   ],
   "source": [
    "def goa():\n",
    "    print(\"Hi Goa\")\n",
    "    \n",
    "print(type(goa))"
   ]
  },
  {
   "cell_type": "markdown",
   "id": "c8868bd1",
   "metadata": {},
   "source": [
    "# arguments"
   ]
  },
  {
   "cell_type": "code",
   "execution_count": 4,
   "id": "cddca5f4",
   "metadata": {},
   "outputs": [
    {
     "name": "stdout",
     "output_type": "stream",
     "text": [
      "Hello Pushparaj\n",
      "Hello Raj\n",
      "Hello Indore\n"
     ]
    }
   ],
   "source": [
    "def hello(x):\n",
    "    print(\"Hello\",x)\n",
    "hello(\"Pushparaj\")\n",
    "hello(\"Raj\")\n",
    "hello(\"Indore\")"
   ]
  },
  {
   "cell_type": "code",
   "execution_count": 5,
   "id": "eb897890",
   "metadata": {},
   "outputs": [
    {
     "name": "stdout",
     "output_type": "stream",
     "text": [
      "Hello 5\n"
     ]
    }
   ],
   "source": [
    "hello(5)"
   ]
  },
  {
   "cell_type": "markdown",
   "id": "cddea643",
   "metadata": {},
   "source": [
    "Qn. W.a.p. to create a function that recieve 2 arguments and print addition of them. "
   ]
  },
  {
   "cell_type": "code",
   "execution_count": 6,
   "id": "f4c9828a",
   "metadata": {},
   "outputs": [
    {
     "name": "stdout",
     "output_type": "stream",
     "text": [
      "addition= 30\n"
     ]
    }
   ],
   "source": [
    "def add(x,y):\n",
    "    print(\"addition=\",x+y)\n",
    "\n",
    "add(10,20)"
   ]
  },
  {
   "cell_type": "markdown",
   "id": "752bae72",
   "metadata": {},
   "source": [
    "# Return Statement"
   ]
  },
  {
   "cell_type": "code",
   "execution_count": 7,
   "id": "82aedc38",
   "metadata": {},
   "outputs": [
    {
     "name": "stdout",
     "output_type": "stream",
     "text": [
      "hi\n",
      "10\n"
     ]
    }
   ],
   "source": [
    "def camera():\n",
    "    print(\"hi\")\n",
    "    return 10\n",
    "print(camera())"
   ]
  },
  {
   "cell_type": "code",
   "execution_count": 8,
   "id": "595c2c9d",
   "metadata": {},
   "outputs": [
    {
     "name": "stdout",
     "output_type": "stream",
     "text": [
      "hi\n",
      "10\n"
     ]
    }
   ],
   "source": [
    "z=camera()\n",
    "print(z)"
   ]
  },
  {
   "cell_type": "code",
   "execution_count": 10,
   "id": "f18a64b0",
   "metadata": {},
   "outputs": [
    {
     "name": "stdout",
     "output_type": "stream",
     "text": [
      "Greater= 20\n"
     ]
    }
   ],
   "source": [
    "def greater(x,y):\n",
    "    if x>=y:\n",
    "        return x\n",
    "    else:\n",
    "        return y\n",
    "print(\"Greater=\",greater(10,20))"
   ]
  },
  {
   "cell_type": "code",
   "execution_count": 11,
   "id": "5a7bcfd2",
   "metadata": {},
   "outputs": [
    {
     "name": "stdout",
     "output_type": "stream",
     "text": [
      "13\n",
      "5\n"
     ]
    }
   ],
   "source": [
    "x=5\n",
    "def add(x):\n",
    "    x+=3\n",
    "    print(x)\n",
    "add(10)\n",
    "print(x)"
   ]
  },
  {
   "cell_type": "code",
   "execution_count": 1,
   "id": "4d959ae5",
   "metadata": {},
   "outputs": [
    {
     "name": "stdout",
     "output_type": "stream",
     "text": [
      "1\n",
      "2\n"
     ]
    }
   ],
   "source": [
    "def pre():\n",
    "    print(1)\n",
    "    print(2)\n",
    "    return                                     #code after return statement doesn't run as return statement will return the value to where it is called.\n",
    "    print(4)\n",
    "    print(5)\n",
    "pre()"
   ]
  },
  {
   "cell_type": "code",
   "execution_count": 2,
   "id": "a357757b",
   "metadata": {},
   "outputs": [
    {
     "name": "stdout",
     "output_type": "stream",
     "text": [
      "1\n",
      "2\n",
      "None\n"
     ]
    }
   ],
   "source": [
    "print(pre())                                    #while printing function with no return value , it will print None"
   ]
  },
  {
   "cell_type": "code",
   "execution_count": 3,
   "id": "12241892",
   "metadata": {},
   "outputs": [
    {
     "name": "stdout",
     "output_type": "stream",
     "text": [
      "5\n",
      "Hello\n",
      "None\n"
     ]
    }
   ],
   "source": [
    "def goa():\n",
    "    print(5)\n",
    "    print(\"Hello\")\n",
    "x=goa()\n",
    "print(x)"
   ]
  },
  {
   "cell_type": "code",
   "execution_count": 4,
   "id": "52444bfd",
   "metadata": {},
   "outputs": [
    {
     "name": "stdout",
     "output_type": "stream",
     "text": [
      "India\n",
      "None\n",
      "None\n"
     ]
    }
   ],
   "source": [
    "print(print(print(\"India\")))                #printing function{here print} having no return value will print None"
   ]
  },
  {
   "cell_type": "code",
   "execution_count": 5,
   "id": "c893de8c",
   "metadata": {},
   "outputs": [
    {
     "name": "stdout",
     "output_type": "stream",
     "text": [
      "\n",
      "None\n"
     ]
    }
   ],
   "source": [
    "a=print()\n",
    "print(a)"
   ]
  },
  {
   "cell_type": "markdown",
   "id": "e9547172",
   "metadata": {},
   "source": [
    "# Default Arguments"
   ]
  },
  {
   "cell_type": "code",
   "execution_count": 6,
   "id": "2ff824fd",
   "metadata": {},
   "outputs": [
    {
     "name": "stdout",
     "output_type": "stream",
     "text": [
      "Hi\n"
     ]
    }
   ],
   "source": [
    "def say(msg,time=1):                          #here time is defaultt argument. i.e. if no value is passed for time , it will take by-default 1\n",
    "             print(msg*time)\n",
    "        \n",
    "say(\"Hi\")"
   ]
  },
  {
   "cell_type": "code",
   "execution_count": 7,
   "id": "7a9b2881",
   "metadata": {},
   "outputs": [
    {
     "name": "stdout",
     "output_type": "stream",
     "text": [
      "ByeByeByeByeBye\n"
     ]
    }
   ],
   "source": [
    "say(\"Bye\",5)"
   ]
  },
  {
   "cell_type": "code",
   "execution_count": 10,
   "id": "01f82234",
   "metadata": {},
   "outputs": [
    {
     "name": "stdout",
     "output_type": "stream",
     "text": [
      "5\n",
      "7\n",
      "10\n",
      "\n",
      "25\n",
      "5\n",
      "50\n",
      "\n",
      "100\n",
      "5\n",
      "40\n"
     ]
    }
   ],
   "source": [
    "def said(a,b=5,c=10):\n",
    "    print(a)\n",
    "    print(b)\n",
    "    print(c)\n",
    "    \n",
    "said(5,7)\n",
    "print()\n",
    "said(25,c=50)\n",
    "print()\n",
    "said(c=40,a=100)"
   ]
  },
  {
   "cell_type": "code",
   "execution_count": 11,
   "id": "ddb2ab97",
   "metadata": {},
   "outputs": [
    {
     "name": "stdout",
     "output_type": "stream",
     "text": [
      "0\n"
     ]
    }
   ],
   "source": [
    "i=0\n",
    "def change(i):\n",
    "    i+=1\n",
    "    return 1\n",
    "change(1)                 #here we have not hold this call\n",
    "print(i)                  #here it will refer to global variable"
   ]
  },
  {
   "cell_type": "markdown",
   "id": "941caa57",
   "metadata": {},
   "source": [
    "# Reference Functon"
   ]
  },
  {
   "cell_type": "code",
   "execution_count": 12,
   "id": "e237bdc8",
   "metadata": {},
   "outputs": [
    {
     "name": "stdout",
     "output_type": "stream",
     "text": [
      "10\n",
      "10\n"
     ]
    }
   ],
   "source": [
    "a=10\n",
    "b=a\n",
    "print(a)\n",
    "print(b)                   #here both variables refers to same value i.e. 10"
   ]
  },
  {
   "cell_type": "code",
   "execution_count": 13,
   "id": "86f80dbf",
   "metadata": {},
   "outputs": [
    {
     "name": "stdout",
     "output_type": "stream",
     "text": [
      "30\n",
      "40\n"
     ]
    }
   ],
   "source": [
    "def multiply(x,y):\n",
    "    return(x*y)\n",
    "other=multiply                     #here,we haven't write any brackets , as with writing brackets, immediately calling of function execute.\n",
    "print(other(5,6))\n",
    "print(multiply(5,8))"
   ]
  },
  {
   "cell_type": "code",
   "execution_count": 14,
   "id": "854cc5d8",
   "metadata": {},
   "outputs": [
    {
     "name": "stdout",
     "output_type": "stream",
     "text": [
      "cat!\n"
     ]
    }
   ],
   "source": [
    "def data(a):\n",
    "    return(a+'!')\n",
    "m=data\n",
    "p=m(\"cat\")\n",
    "print(p)"
   ]
  },
  {
   "cell_type": "markdown",
   "id": "57dbdc1d",
   "metadata": {},
   "source": [
    "# Function as an argument"
   ]
  },
  {
   "cell_type": "code",
   "execution_count": 15,
   "id": "30db3878",
   "metadata": {},
   "outputs": [
    {
     "name": "stdout",
     "output_type": "stream",
     "text": [
      "60\n"
     ]
    }
   ],
   "source": [
    "def sub(x,y):\n",
    "    return(x+y)\n",
    "def do(red,x,y):\n",
    "    return red(red(x,y),red(x,y))\n",
    "         # sub(sub(10,20),sub(10,20))\n",
    "         # sub(   30     ,   30)\n",
    "print(do(sub,10,20))"
   ]
  },
  {
   "cell_type": "code",
   "execution_count": null,
   "id": "704cd11d",
   "metadata": {},
   "outputs": [],
   "source": []
  }
 ],
 "metadata": {
  "kernelspec": {
   "display_name": "Python 3 (ipykernel)",
   "language": "python",
   "name": "python3"
  },
  "language_info": {
   "codemirror_mode": {
    "name": "ipython",
    "version": 3
   },
   "file_extension": ".py",
   "mimetype": "text/x-python",
   "name": "python",
   "nbconvert_exporter": "python",
   "pygments_lexer": "ipython3",
   "version": "3.9.13"
  }
 },
 "nbformat": 4,
 "nbformat_minor": 5
}
