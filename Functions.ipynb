{
 "cells": [
  {
   "cell_type": "markdown",
   "id": "971c341e",
   "metadata": {},
   "source": [
    "# Functions"
   ]
  },
  {
   "cell_type": "markdown",
   "id": "f5e7b651",
   "metadata": {},
   "source": [
    "We can divide our code in small chunks and we can use it as per our requirement."
   ]
  },
  {
   "cell_type": "code",
   "execution_count": 2,
   "id": "75da3fca",
   "metadata": {},
   "outputs": [
    {
     "name": "stdout",
     "output_type": "stream",
     "text": [
      "Hello\n",
      "Bye\n"
     ]
    }
   ],
   "source": [
    "def myfunction():                         # definition of function\n",
    "    print(\"Hello\")\n",
    "    print(\"Bye\")\n",
    "\n",
    "myfunction()                              # calling of a function"
   ]
  },
  {
   "cell_type": "markdown",
   "id": "3744202b",
   "metadata": {},
   "source": [
    "*name of function should not contain any special characters"
   ]
  },
  {
   "cell_type": "code",
   "execution_count": 3,
   "id": "0ee05d3f",
   "metadata": {},
   "outputs": [
    {
     "name": "stdout",
     "output_type": "stream",
     "text": [
      "<class 'function'>\n"
     ]
    }
   ],
   "source": [
    "def goa():\n",
    "    print(\"Hi Goa\")\n",
    "    \n",
    "print(type(goa))"
   ]
  },
  {
   "cell_type": "markdown",
   "id": "c8868bd1",
   "metadata": {},
   "source": [
    "# arguments"
   ]
  },
  {
   "cell_type": "code",
   "execution_count": 4,
   "id": "cddca5f4",
   "metadata": {},
   "outputs": [
    {
     "name": "stdout",
     "output_type": "stream",
     "text": [
      "Hello Pushparaj\n",
      "Hello Raj\n",
      "Hello Indore\n"
     ]
    }
   ],
   "source": [
    "def hello(x):\n",
    "    print(\"Hello\",x)\n",
    "hello(\"Pushparaj\")\n",
    "hello(\"Raj\")\n",
    "hello(\"Indore\")"
   ]
  },
  {
   "cell_type": "code",
   "execution_count": 5,
   "id": "eb897890",
   "metadata": {},
   "outputs": [
    {
     "name": "stdout",
     "output_type": "stream",
     "text": [
      "Hello 5\n"
     ]
    }
   ],
   "source": [
    "hello(5)"
   ]
  },
  {
   "cell_type": "markdown",
   "id": "cddea643",
   "metadata": {},
   "source": [
    "Qn. W.a.p. to create a function that recieve 2 arguments and print addition of them. "
   ]
  },
  {
   "cell_type": "code",
   "execution_count": 6,
   "id": "f4c9828a",
   "metadata": {},
   "outputs": [
    {
     "name": "stdout",
     "output_type": "stream",
     "text": [
      "addition= 30\n"
     ]
    }
   ],
   "source": [
    "def add(x,y):\n",
    "    print(\"addition=\",x+y)\n",
    "\n",
    "add(10,20)"
   ]
  },
  {
   "cell_type": "markdown",
   "id": "752bae72",
   "metadata": {},
   "source": [
    "# Return Statement"
   ]
  },
  {
   "cell_type": "code",
   "execution_count": 7,
   "id": "82aedc38",
   "metadata": {},
   "outputs": [
    {
     "name": "stdout",
     "output_type": "stream",
     "text": [
      "hi\n",
      "10\n"
     ]
    }
   ],
   "source": [
    "def camera():\n",
    "    print(\"hi\")\n",
    "    return 10\n",
    "print(camera())"
   ]
  },
  {
   "cell_type": "code",
   "execution_count": 8,
   "id": "595c2c9d",
   "metadata": {},
   "outputs": [
    {
     "name": "stdout",
     "output_type": "stream",
     "text": [
      "hi\n",
      "10\n"
     ]
    }
   ],
   "source": [
    "z=camera()\n",
    "print(z)"
   ]
  },
  {
   "cell_type": "code",
   "execution_count": 10,
   "id": "f18a64b0",
   "metadata": {},
   "outputs": [
    {
     "name": "stdout",
     "output_type": "stream",
     "text": [
      "Greater= 20\n"
     ]
    }
   ],
   "source": [
    "def greater(x,y):\n",
    "    if x>=y:\n",
    "        return x\n",
    "    else:\n",
    "        return y\n",
    "print(\"Greater=\",greater(10,20))"
   ]
  },
  {
   "cell_type": "code",
   "execution_count": 11,
   "id": "5a7bcfd2",
   "metadata": {},
   "outputs": [
    {
     "name": "stdout",
     "output_type": "stream",
     "text": [
      "13\n",
      "5\n"
     ]
    }
   ],
   "source": [
    "x=5\n",
    "def add(x):\n",
    "    x+=3\n",
    "    print(x)\n",
    "add(10)\n",
    "print(x)"
   ]
  },
  {
   "cell_type": "code",
   "execution_count": null,
   "id": "4d959ae5",
   "metadata": {},
   "outputs": [],
   "source": []
  }
 ],
 "metadata": {
  "kernelspec": {
   "display_name": "Python 3 (ipykernel)",
   "language": "python",
   "name": "python3"
  },
  "language_info": {
   "codemirror_mode": {
    "name": "ipython",
    "version": 3
   },
   "file_extension": ".py",
   "mimetype": "text/x-python",
   "name": "python",
   "nbconvert_exporter": "python",
   "pygments_lexer": "ipython3",
   "version": "3.9.13"
  }
 },
 "nbformat": 4,
 "nbformat_minor": 5
}
