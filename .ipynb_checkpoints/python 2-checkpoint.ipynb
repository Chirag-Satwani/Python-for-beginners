{
 "cells": [
  {
   "cell_type": "markdown",
   "id": "fd513f16",
   "metadata": {},
   "source": [
    "## Conditional Statements"
   ]
  },
  {
   "cell_type": "markdown",
   "id": "e99c3379",
   "metadata": {},
   "source": [
    "//W.a.p to enter a pincode from the user and check whether it is correct to grant access. "
   ]
  },
  {
   "cell_type": "code",
   "execution_count": 15,
   "id": "23792868",
   "metadata": {},
   "outputs": [
    {
     "name": "stdout",
     "output_type": "stream",
     "text": [
      "entre a passcode :1234\n",
      "access granted\n"
     ]
    }
   ],
   "source": [
    "a =int(input(\"entre a passcode :\"))\n",
    "\n",
    "if a==1234:\n",
    "    print(\"access granted\")\n",
    "    \n",
    "else :\n",
    "    print(\"incorrect passcode\")"
   ]
  },
  {
   "cell_type": "markdown",
   "id": "787931a3",
   "metadata": {},
   "source": [
    "###  Nested if else"
   ]
  },
  {
   "cell_type": "code",
   "execution_count": 24,
   "id": "28352b9b",
   "metadata": {},
   "outputs": [
    {
     "name": "stdout",
     "output_type": "stream",
     "text": [
      "Enter a single digit number:523544\n",
      "no. is not a single digit\n"
     ]
    }
   ],
   "source": [
    "a= int(input(\"Enter a single digit number:\"))\n",
    "if a<=5 and a>0 :\n",
    "    print(\"Range= 1-5\")\n",
    "    if a==5:\n",
    "        print(\"no. is five\")\n",
    "    else:\n",
    "        print(\"not 5\")\n",
    "elif a>5 and a<10:\n",
    "    print(\"Range=5-9\")\n",
    "    if a==9:\n",
    "        print (\"no. is nine\")\n",
    "    else:\n",
    "        print(\"not 9\")\n",
    "else:\n",
    "    print(\"no. is not a single digit\")"
   ]
  },
  {
   "cell_type": "markdown",
   "id": "7d3bad7d",
   "metadata": {},
   "source": [
    "# Ternary Statements"
   ]
  },
  {
   "cell_type": "code",
   "execution_count": 28,
   "id": "66b1acd8",
   "metadata": {},
   "outputs": [
    {
     "name": "stdout",
     "output_type": "stream",
     "text": [
      "login\n"
     ]
    }
   ],
   "source": [
    "status=1\n",
    "msg='login'if status==1 else'logout' \n",
    "print(msg)"
   ]
  },
  {
   "cell_type": "markdown",
   "id": "0e2b8adb",
   "metadata": {},
   "source": [
    "# Foundational Questions"
   ]
  },
  {
   "cell_type": "markdown",
   "id": "b89a85fa",
   "metadata": {},
   "source": [
    "W.a.p. to enter a number from user and checkif its even or odd?"
   ]
  },
  {
   "cell_type": "code",
   "execution_count": 30,
   "id": "28dc375e",
   "metadata": {},
   "outputs": [
    {
     "name": "stdout",
     "output_type": "stream",
     "text": [
      "enter a number:0\n",
      "neutral\n"
     ]
    }
   ],
   "source": [
    "a=int(input(\"enter a number:\"))\n",
    "if a==0:\n",
    "    print (\"neutral\")\n",
    "elif a%2 ==0:\n",
    "    print(\"even\")\n",
    "else:\n",
    "    print (\"odd\")"
   ]
  },
  {
   "cell_type": "markdown",
   "id": "57a3e06b",
   "metadata": {},
   "source": [
    "//W.a.p to enter a single digit no. from user and print its character format."
   ]
  },
  {
   "cell_type": "code",
   "execution_count": 36,
   "id": "bbe56f74",
   "metadata": {},
   "outputs": [
    {
     "name": "stdout",
     "output_type": "stream",
     "text": [
      "enter a single digit no.0\n",
      "zero\n"
     ]
    }
   ],
   "source": [
    "a=int(input(\"enter a single digit no.\"))\n",
    "\n",
    "if a==1:\n",
    "    print(\"one\")\n",
    "elif a==2:\n",
    "    print(\"two\")\n",
    "elif a==3:\n",
    "    print(\"three\")\n",
    "elif a==4:\n",
    "    print(\"four\")\n",
    "elif a==5:\n",
    "    print(\"five\")\n",
    "elif a==6:\n",
    "    print(\"six\")\n",
    "elif a==7:\n",
    "    print(\"seven\")\n",
    "elif a==8:\n",
    "    print(\"eight\")\n",
    "elif a==9:\n",
    "    print(\"nine\")\n",
    "elif a==0:\n",
    "    print(\"zero\")\n",
    "else:\n",
    "    print(\"invalid input\")"
   ]
  },
  {
   "cell_type": "markdown",
   "id": "43cc6c39",
   "metadata": {},
   "source": [
    "W.A.P to entre a no. from user and print its abslute value."
   ]
  },
  {
   "cell_type": "code",
   "execution_count": 43,
   "id": "f33df6d1",
   "metadata": {},
   "outputs": [
    {
     "name": "stdout",
     "output_type": "stream",
     "text": [
      "enter a number:-2\n",
      "2\n"
     ]
    }
   ],
   "source": [
    "a= int(input(\"enter a number:\"))\n",
    "if a<0:\n",
    "  print(a*(-1))\n",
    "else:\n",
    "  print(a)"
   ]
  },
  {
   "cell_type": "markdown",
   "id": "975c81e0",
   "metadata": {},
   "source": [
    "W.A.P to entre a character from user and check if it is vowel or consonent"
   ]
  },
  {
   "cell_type": "code",
   "execution_count": 70,
   "id": "3a1ab22c",
   "metadata": {},
   "outputs": [
    {
     "name": "stdout",
     "output_type": "stream",
     "text": [
      "enter a alphabet character:@\n",
      "Invalid type\n"
     ]
    }
   ],
   "source": [
    "ch = input(\"enter a alphabet character:\")\n",
    "if ch>='A' and ch<='z':\n",
    "    if ch=='a'or ch=='e'or ch=='i' or ch=='o' or ch=='u':\n",
    "        print(\"vowel\")\n",
    "    elif ch== 'A' or ch=='E' or ch== 'I' or ch== 'O' or ch== 'U' :\n",
    "        print(\"vowel\")\n",
    "    else:\n",
    "        print(\"consonent\")\n",
    "else:\n",
    "    print(\"Invalid type\")"
   ]
  },
  {
   "cell_type": "markdown",
   "id": "614eecec",
   "metadata": {},
   "source": [
    "// ch== 'a' or 'e' or 'i' or 'o' or 'u':\n",
    "this way is incorrect because python will calculate RHS first and assign to ch , which is no a prper way to solve the program."
   ]
  },
  {
   "cell_type": "markdown",
   "id": "ba805307",
   "metadata": {},
   "source": [
    "W.a.p to entre length and width and check if it is a square or rectangle"
   ]
  },
  {
   "cell_type": "code",
   "execution_count": 72,
   "id": "9597493f",
   "metadata": {},
   "outputs": [
    {
     "name": "stdout",
     "output_type": "stream",
     "text": [
      "enter length in cm:5\n",
      "entre width in cm:5\n",
      "square\n"
     ]
    }
   ],
   "source": [
    "length= int(input(\"enter length in cm:\"))\n",
    "width= int(input(\"entre width in cm:\"))\n",
    "if length==width:\n",
    "    print(\"square\")\n",
    "else:\n",
    "    print(\"rectangle\")"
   ]
  },
  {
   "cell_type": "markdown",
   "id": "650acd42",
   "metadata": {},
   "source": [
    "# While Loop"
   ]
  },
  {
   "cell_type": "markdown",
   "id": "83f65b15",
   "metadata": {},
   "source": [
    "Loops are used to execute same task repeatedly.\n"
   ]
  },
  {
   "cell_type": "markdown",
   "id": "199f6585",
   "metadata": {},
   "source": [
    "if loop runs one time then it will be considered as 1 iteration."
   ]
  },
  {
   "cell_type": "markdown",
   "id": "e7ea0acc",
   "metadata": {},
   "source": [
    "print fntion will automatically change line after writing code inside brackets. if ou wants to not to end line then you can use end keyword todictate to not to change line."
   ]
  },
  {
   "cell_type": "code",
   "execution_count": 74,
   "id": "ae5a6f52",
   "metadata": {},
   "outputs": [
    {
     "name": "stdout",
     "output_type": "stream",
     "text": [
      "Hello not change line"
     ]
    }
   ],
   "source": [
    "print(\"Hello\",end=' not change line')"
   ]
  },
  {
   "cell_type": "markdown",
   "id": "d7b071e6",
   "metadata": {},
   "source": [
    "print the following series:\n",
    "1  2    4  5  6  7  8  9  10"
   ]
  },
  {
   "cell_type": "code",
   "execution_count": 77,
   "id": "91286f68",
   "metadata": {},
   "outputs": [
    {
     "name": "stdout",
     "output_type": "stream",
     "text": [
      "1 2 3 4 5 6 7 8 9 10 "
     ]
    }
   ],
   "source": [
    "i=1\n",
    "while i<=10:\n",
    "    print(i,end=' ')\n",
    "    i+=1"
   ]
  },
  {
   "cell_type": "markdown",
   "id": "80b5ec23",
   "metadata": {},
   "source": [
    "print the following series:\n",
    "1  4  9  16  25  36  49  6  81  100\n"
   ]
  },
  {
   "cell_type": "code",
   "execution_count": 79,
   "id": "fb7ec001",
   "metadata": {},
   "outputs": [
    {
     "name": "stdout",
     "output_type": "stream",
     "text": [
      "1 4 9 16 25 36 49 64 81 100 "
     ]
    }
   ],
   "source": [
    "i=1\n",
    "while i<=10:\n",
    "    print(i*i,end=' ')\n",
    "    i+=1"
   ]
  },
  {
   "cell_type": "markdown",
   "id": "c6577093",
   "metadata": {},
   "source": [
    "print the following series:\n",
    "1+2+3+4+5+6+7+8+9+10\n"
   ]
  },
  {
   "cell_type": "code",
   "execution_count": 85,
   "id": "c46e19b5",
   "metadata": {},
   "outputs": [
    {
     "name": "stdout",
     "output_type": "stream",
     "text": [
      "1+2+3+4+5+6+7+8+9+10\n"
     ]
    }
   ],
   "source": [
    "i=1\n",
    "while i<10:\n",
    "    print(i,end='+')\n",
    "    i+=1\n",
    "print(i)"
   ]
  },
  {
   "cell_type": "markdown",
   "id": "8ea81c30",
   "metadata": {},
   "source": [
    "print the following series:\n",
    "1/1 2/4 3/9 4/16 5/25 6/36 7/49 8/64 9/81 10/100"
   ]
  },
  {
   "cell_type": "code",
   "execution_count": 93,
   "id": "3239abc5",
   "metadata": {},
   "outputs": [
    {
     "name": "stdout",
     "output_type": "stream",
     "text": [
      "1/1\t2/4\t3/9\t4/16\t5/25\t6/36\t7/49\t8/64\t9/81\t10/100\t"
     ]
    }
   ],
   "source": [
    "i=1\n",
    "while i<=10:\n",
    "    print(i,end='/')\n",
    "    print(i*i,end='\\t')\n",
    "    i+=1"
   ]
  },
  {
   "cell_type": "markdown",
   "id": "339af175",
   "metadata": {},
   "source": [
    "# Continue Statement"
   ]
  },
  {
   "cell_type": "code",
   "execution_count": 98,
   "id": "c02ebd12",
   "metadata": {},
   "outputs": [
    {
     "name": "stdout",
     "output_type": "stream",
     "text": [
      "1 3 5 7 9 11 "
     ]
    }
   ],
   "source": [
    "i=0\n",
    "while i<=10:\n",
    "    i+=1\n",
    "    if i%2 ==0:\n",
    "        continue\n",
    "    else:\n",
    "        print(i,end=' ')"
   ]
  },
  {
   "cell_type": "markdown",
   "id": "d4587d6b",
   "metadata": {},
   "source": [
    "W.a.p to enter 5 numbers from user and print them simultaneously"
   ]
  },
  {
   "cell_type": "code",
   "execution_count": 99,
   "id": "698e1e0c",
   "metadata": {},
   "outputs": [
    {
     "name": "stdout",
     "output_type": "stream",
     "text": [
      "enter a number:1\n",
      "1\n",
      "enter a number:2\n",
      "2\n",
      "enter a number:3\n",
      "3\n",
      "enter a number:4\n",
      "4\n",
      "enter a number:5\n",
      "5\n"
     ]
    }
   ],
   "source": [
    "i=1\n",
    "while i<=5:\n",
    "    a= int(input(\"enter a number:\"))\n",
    "    print(a)\n",
    "    i+=1"
   ]
  },
  {
   "cell_type": "markdown",
   "id": "1a58c5d9",
   "metadata": {},
   "source": [
    "W.a.p to enter 5 numbers from user and print sum of them"
   ]
  },
  {
   "cell_type": "code",
   "execution_count": 107,
   "id": "3c2ce7f3",
   "metadata": {},
   "outputs": [
    {
     "name": "stdout",
     "output_type": "stream",
     "text": [
      "enter a value:1\n",
      "enter a value:2\n",
      "enter a value:3\n",
      "enter a value:4\n",
      "enter a value:5\n",
      "sum of the given values is 15\n"
     ]
    }
   ],
   "source": [
    "i=1\n",
    "sum=0\n",
    "while i<=5:\n",
    "    a=int(input(\"enter a value:\"))\n",
    "    sum=sum+a\n",
    "    i+=1\n",
    "print(\"sum of the given values is\", sum)\n",
    "\n"
   ]
  },
  {
   "cell_type": "markdown",
   "id": "6a7654fd",
   "metadata": {},
   "source": [
    "W.a.p to enter a no. from user and print reverse of it."
   ]
  },
  {
   "cell_type": "code",
   "execution_count": null,
   "id": "23b0e84d",
   "metadata": {},
   "outputs": [],
   "source": [
    "a= int(input(\"entre a number to reverse:\"))\n",
    "while a>0:\n",
    "    r=a%10\n",
    "    print(r,end='')\n",
    "    a=a//10"
   ]
  },
  {
   "cell_type": "markdown",
   "id": "8111e18c",
   "metadata": {},
   "source": [
    "W.a.p to enter a no. from user and print sum of its inividual digits."
   ]
  },
  {
   "cell_type": "code",
   "execution_count": 3,
   "id": "df79723f",
   "metadata": {},
   "outputs": [
    {
     "name": "stdout",
     "output_type": "stream",
     "text": [
      "enter a number:123\n",
      "sum of individual digits of given no. is: 6\n"
     ]
    }
   ],
   "source": [
    "n=int(input(\"enter a number:\"))\n",
    "sum=0\n",
    "while n>0:\n",
    "    r=n%10\n",
    "    sum=sum+r\n",
    "    n=n//10\n",
    "\n",
    "print(\"sum of individual digits of given no. is:\",sum)"
   ]
  },
  {
   "cell_type": "code",
   "execution_count": null,
   "id": "83c5543d",
   "metadata": {},
   "outputs": [],
   "source": []
  }
 ],
 "metadata": {
  "kernelspec": {
   "display_name": "Python 3 (ipykernel)",
   "language": "python",
   "name": "python3"
  },
  "language_info": {
   "codemirror_mode": {
    "name": "ipython",
    "version": 3
   },
   "file_extension": ".py",
   "mimetype": "text/x-python",
   "name": "python",
   "nbconvert_exporter": "python",
   "pygments_lexer": "ipython3",
   "version": "3.9.13"
  }
 },
 "nbformat": 4,
 "nbformat_minor": 5
}
