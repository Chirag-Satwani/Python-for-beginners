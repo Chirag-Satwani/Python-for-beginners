{
 "cells": [
  {
   "cell_type": "markdown",
   "id": "652f00b9",
   "metadata": {},
   "source": [
    "    #Introduction and Basics\n",
    "Installation\n",
    "\n",
    "Python Org, Python 3\n",
    "\n",
    "Variables\n",
    "\n",
    "Print function\n",
    "\n",
    "Input from user\n",
    "\n",
    "Data Types\n",
    "\n",
    "Type Conversion\n",
    "\n",
    "First Program\n"
   ]
  },
  {
   "cell_type": "code",
   "execution_count": 2,
   "id": "d590bc32",
   "metadata": {},
   "outputs": [
    {
     "name": "stdout",
     "output_type": "stream",
     "text": [
      "Hello world\n"
     ]
    }
   ],
   "source": [
    "print(\"Hello world\")"
   ]
  },
  {
   "cell_type": "code",
   "execution_count": 4,
   "id": "0331df91",
   "metadata": {},
   "outputs": [
    {
     "name": "stdout",
     "output_type": "stream",
     "text": [
      "*\n",
      "**\n",
      "***\n"
     ]
    }
   ],
   "source": [
    "print(\"*\\n**\\n***\")"
   ]
  },
  {
   "cell_type": "code",
   "execution_count": 5,
   "id": "6fd1f1e2",
   "metadata": {},
   "outputs": [
    {
     "name": "stdout",
     "output_type": "stream",
     "text": [
      "Chirag\n",
      "\tILVA\n",
      "\t\tIndore\n"
     ]
    }
   ],
   "source": [
    "print(\"Chirag\\n\\tILVA\\n\\t\\tIndore\")"
   ]
  },
  {
   "cell_type": "code",
   "execution_count": 6,
   "id": "bc27b5ad",
   "metadata": {},
   "outputs": [
    {
     "name": "stdout",
     "output_type": "stream",
     "text": [
      "    *\n",
      "*\t*\n",
      "    *\n"
     ]
    }
   ],
   "source": [
    "print(\"    *\\n*\\t*\\n    *\")"
   ]
  },
  {
   "cell_type": "markdown",
   "id": "1b969cfe",
   "metadata": {},
   "source": [
    "    Variables  "
   ]
  },
  {
   "cell_type": "code",
   "execution_count": 8,
   "id": "7dfc7369",
   "metadata": {},
   "outputs": [
    {
     "name": "stdout",
     "output_type": "stream",
     "text": [
      "10 Indore\n"
     ]
    }
   ],
   "source": [
    "a=10\n",
    "b=(\"Indore\")\n",
    "print(a,b)"
   ]
  },
  {
   "cell_type": "markdown",
   "id": "01cff174",
   "metadata": {},
   "source": [
    "      # Data Types"
   ]
  },
  {
   "cell_type": "code",
   "execution_count": 10,
   "id": "d8b0fd29",
   "metadata": {},
   "outputs": [
    {
     "name": "stdout",
     "output_type": "stream",
     "text": [
      "<class 'int'>\n",
      "<class 'float'>\n",
      "<class 'str'>\n"
     ]
    }
   ],
   "source": [
    "a=10\n",
    "b=10.629872\n",
    "c=(\"Indore\")\n",
    "print(type(a))\n",
    "print(type(b))\n",
    "print(type(c))\n"
   ]
  },
  {
   "cell_type": "markdown",
   "id": "7e78c318",
   "metadata": {},
   "source": [
    "     #Input from user"
   ]
  },
  {
   "cell_type": "code",
   "execution_count": 12,
   "id": "5a523793",
   "metadata": {},
   "outputs": [
    {
     "name": "stdout",
     "output_type": "stream",
     "text": [
      "10\n",
      "10\n"
     ]
    }
   ],
   "source": [
    "a=input()\n",
    "print (a)"
   ]
  },
  {
   "cell_type": "code",
   "execution_count": 13,
   "id": "65f4294e",
   "metadata": {},
   "outputs": [
    {
     "name": "stdout",
     "output_type": "stream",
     "text": [
      "ener a number:10\n",
      "10\n"
     ]
    }
   ],
   "source": [
    "a=input(\"ener a number:\")\n",
    "print(a)"
   ]
  },
  {
   "cell_type": "markdown",
   "id": "48b788fe",
   "metadata": {},
   "source": [
    "     # Type conversion"
   ]
  },
  {
   "cell_type": "code",
   "execution_count": 14,
   "id": "121c628a",
   "metadata": {},
   "outputs": [
    {
     "name": "stdout",
     "output_type": "stream",
     "text": [
      "10.33545341\n",
      "<class 'float'>\n",
      "10\n",
      "<class 'int'>\n"
     ]
    }
   ],
   "source": [
    "a=10.33545341\n",
    "print(a)\n",
    "print(type(a))\n",
    "\n",
    "b=int(a)\n",
    "print(b)\n",
    "print(type(b))\n"
   ]
  },
  {
   "cell_type": "markdown",
   "id": "b05a85de",
   "metadata": {},
   "source": [
    "     #write a program to enter 2 nos from user and print there addition"
   ]
  },
  {
   "cell_type": "markdown",
   "id": "cac7b3c1",
   "metadata": {},
   "source": [
    "     Note=>  input function will automatically take the input in string format unless specified"
   ]
  },
  {
   "cell_type": "code",
   "execution_count": 15,
   "id": "755e9605",
   "metadata": {},
   "outputs": [
    {
     "name": "stdout",
     "output_type": "stream",
     "text": [
      "Enter 1st no. :10\n",
      "Enter 2nd no. :20\n",
      "summation of 10 and 20 = 30\n"
     ]
    }
   ],
   "source": [
    "a=int(input(\"Enter 1st no. :\"))\n",
    "b=int(input(\"Enter 2nd no. :\"))\n",
    "c= a+b\n",
    "print(\"summation of\",a,\"and\",b,\"=\",c)"
   ]
  }
 ],
 "metadata": {
  "kernelspec": {
   "display_name": "Python 3 (ipykernel)",
   "language": "python",
   "name": "python3"
  },
  "language_info": {
   "codemirror_mode": {
    "name": "ipython",
    "version": 3
   },
   "file_extension": ".py",
   "mimetype": "text/x-python",
   "name": "python",
   "nbconvert_exporter": "python",
   "pygments_lexer": "ipython3",
   "version": "3.9.13"
  }
 },
 "nbformat": 4,
 "nbformat_minor": 5
}
