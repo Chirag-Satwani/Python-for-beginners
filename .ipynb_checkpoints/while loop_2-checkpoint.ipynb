{
 "cells": [
  {
   "cell_type": "markdown",
   "id": "eecf9d9e",
   "metadata": {},
   "source": [
    "# While Loop [ continued]"
   ]
  },
  {
   "cell_type": "markdown",
   "id": "92047375",
   "metadata": {},
   "source": [
    "//in previous programs ,while calculating reverse of a given no. , there is one drawback:\n",
    "reverse is just printed and not original data is changed, sowe cannot perform operations of the reverse no.  "
   ]
  },
  {
   "cell_type": "markdown",
   "id": "8e277efa",
   "metadata": {},
   "source": [
    "# resolved program"
   ]
  },
  {
   "cell_type": "code",
   "execution_count": 5,
   "id": "5cf3d5a2",
   "metadata": {},
   "outputs": [
    {
     "name": "stdout",
     "output_type": "stream",
     "text": [
      "enter a no. :153\n",
      "351\n",
      "702\n"
     ]
    }
   ],
   "source": [
    "n= int(input(\"enter a no. :\"))\n",
    "s=0\n",
    "while n>0:\n",
    "    r=n%10\n",
    "    s=s*10 + r\n",
    "    n=n//10\n",
    "print(s)\n",
    "             #now we can perform the operations\n",
    "\n",
    "print(s*2)"
   ]
  },
  {
   "cell_type": "markdown",
   "id": "74ebfb59",
   "metadata": {},
   "source": [
    "## W.a.p to enter a no. from user and check if it is pallindrome or not."
   ]
  },
  {
   "cell_type": "code",
   "execution_count": 13,
   "id": "c19a1d70",
   "metadata": {},
   "outputs": [
    {
     "name": "stdout",
     "output_type": "stream",
     "text": [
      "enter a no. :121\n",
      "No. is pallindrome\n"
     ]
    }
   ],
   "source": [
    "n= int(input(\"enter a no. :\"))\n",
    "temp=n\n",
    "s=0\n",
    "while n>0:\n",
    "    r=n%10\n",
    "    s=s*10 +r\n",
    "    n=n//10\n",
    "    \n",
    "if temp==s:\n",
    "    print(\"No. is pallindrome\")\n",
    "else:\n",
    "    print(\"non pallindrome\")"
   ]
  },
  {
   "cell_type": "markdown",
   "id": "e8d3dd78",
   "metadata": {},
   "source": [
    "W.a.p to enter a no. from user and check if it is an armstrong no. or not.\n"
   ]
  },
  {
   "cell_type": "code",
   "execution_count": 16,
   "id": "f5400e59",
   "metadata": {},
   "outputs": [
    {
     "name": "stdout",
     "output_type": "stream",
     "text": [
      "enter a no. :370\n",
      " Armstrong\n"
     ]
    }
   ],
   "source": [
    "n= int(input(\"enter a no. :\"))\n",
    "sum=0\n",
    "temp=n\n",
    "while n>0:\n",
    "    r=n%10\n",
    "    sum=sum+(r*r*r)\n",
    "    n=n//10\n",
    "if temp==sum:\n",
    "    print(\" Armstrong\")\n",
    "else :\n",
    "    print(\"not an armstrong\")"
   ]
  },
  {
   "cell_type": "markdown",
   "id": "bf17a183",
   "metadata": {},
   "source": [
    "W.a.p to enter a no. from user and print its reverse individual digits in saperate line."
   ]
  },
  {
   "cell_type": "code",
   "execution_count": 17,
   "id": "a6879d39",
   "metadata": {},
   "outputs": [
    {
     "name": "stdout",
     "output_type": "stream",
     "text": [
      "enter a no. :153\n",
      "3\n",
      "5\n",
      "1\n"
     ]
    }
   ],
   "source": [
    "n= int(input(\"enter a no. :\"))\n",
    "\n",
    "while n>0:\n",
    "    r=n%10\n",
    "    print(r)\n",
    "    n=n//10"
   ]
  },
  {
   "cell_type": "markdown",
   "id": "7ef6a0d8",
   "metadata": {},
   "source": [
    "W.a.p to enter a no. from user and print its individual digits in character format.\n"
   ]
  },
  {
   "cell_type": "code",
   "execution_count": 21,
   "id": "0248d4dc",
   "metadata": {},
   "outputs": [
    {
     "name": "stdout",
     "output_type": "stream",
     "text": [
      "enter a no. :153\n",
      "one\n",
      "five\n",
      "three\n"
     ]
    }
   ],
   "source": [
    "n= int(input(\"enter a no. :\"))\n",
    "s=0\n",
    "while n>0:\n",
    "    r=n%10\n",
    "    s=s*10+r\n",
    "    n=n//10\n",
    "    \n",
    "while s>0:\n",
    "    r=s%10\n",
    "    if r==1:\n",
    "        print(\"one\")\n",
    "    elif r==2:\n",
    "        print(\"two\")\n",
    "    elif r==3:\n",
    "        print(\"three\")\n",
    "    elif r==4:\n",
    "        print(\"four\")\n",
    "    elif r==5:\n",
    "        print(\"five\")\n",
    "    elif r==6:\n",
    "        print(\"six\")\n",
    "    elif r==7:\n",
    "        print(\"seven\")\n",
    "    elif r==8:\n",
    "        print(\"eight\")\n",
    "    elif r==9:\n",
    "        print(\"nine\")\n",
    "    elif r==0:\n",
    "        print(\"zero\")\n",
    "    s=s//10"
   ]
  },
  {
   "cell_type": "markdown",
   "id": "95d56ecd",
   "metadata": {},
   "source": [
    "W.a.p to enter a no. from user and print its individual digits on saperate line"
   ]
  },
  {
   "cell_type": "code",
   "execution_count": 1,
   "id": "8231ad3f",
   "metadata": {},
   "outputs": [
    {
     "name": "stdout",
     "output_type": "stream",
     "text": [
      "enter a no. :153\n",
      "1\n",
      "5\n",
      "3\n"
     ]
    }
   ],
   "source": [
    "n= int(input(\"enter a no. :\"))\n",
    "s=0\n",
    "while n>0:\n",
    "    r= n%10\n",
    "    s=s*10+r\n",
    "    n=n//10\n",
    "while s>0:\n",
    "    r=s%10\n",
    "    print(r)\n",
    "    s=s//10"
   ]
  },
  {
   "cell_type": "markdown",
   "id": "e72bed5b",
   "metadata": {},
   "source": [
    "**W.a.p to enter a no. from user and print factorial of it**"
   ]
  },
  {
   "cell_type": "code",
   "execution_count": 2,
   "id": "43a27a2d",
   "metadata": {},
   "outputs": [
    {
     "name": "stdout",
     "output_type": "stream",
     "text": [
      "enter a no. :5\n",
      "factorial= 120\n"
     ]
    }
   ],
   "source": [
    "n= int(input(\"enter a no. :\"))\n",
    "f=1\n",
    "while n>1:\n",
    "    f=f*n\n",
    "    n-=1\n",
    "print(\"factorial=\",f)"
   ]
  }
 ],
 "metadata": {
  "kernelspec": {
   "display_name": "Python 3 (ipykernel)",
   "language": "python",
   "name": "python3"
  },
  "language_info": {
   "codemirror_mode": {
    "name": "ipython",
    "version": 3
   },
   "file_extension": ".py",
   "mimetype": "text/x-python",
   "name": "python",
   "nbconvert_exporter": "python",
   "pygments_lexer": "ipython3",
   "version": "3.9.13"
  }
 },
 "nbformat": 4,
 "nbformat_minor": 5
}
