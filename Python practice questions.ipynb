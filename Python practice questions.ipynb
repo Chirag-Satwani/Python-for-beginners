{
 "cells": [
  {
   "cell_type": "code",
   "execution_count": null,
   "id": "ec3fe88c",
   "metadata": {},
   "outputs": [],
   "source": [
    "**print the folloiwing output**\n",
    "Twinkle, twinkle, little star,\n",
    "    How I wonder what you are!\n",
    "        Up above the world so high,\n",
    "        Like a diamond in the sky.\n",
    "Twinkle, twinkle, little star,\n",
    "    How I wonder what you are"
   ]
  },
  {
   "cell_type": "code",
   "execution_count": 9,
   "id": "64166f26",
   "metadata": {},
   "outputs": [
    {
     "name": "stdout",
     "output_type": "stream",
     "text": [
      "Twinkle, twinkle, little star,\n",
      "\t How I wonder what you are!\n",
      "\t\t Up above the world so high,\n",
      "\t\t Like a diamond in the sky.\n",
      " Twinkle, twinkle, little star,\n",
      "\t How I wonder what you are\n"
     ]
    }
   ],
   "source": [
    "print(\"Twinkle, twinkle, little star,\\n\\t How I wonder what you are!\\n\\t\\t Up above the world so high,\\n\\t\\t Like a diamond in the sky.\\n Twinkle, twinkle, little star,\\n\\t How I wonder what you are\")"
   ]
  },
  {
   "cell_type": "markdown",
   "id": "c149a360",
   "metadata": {},
   "source": [
    "**2. Write a Python program to get the Python version you are\n",
    "using.**"
   ]
  },
  {
   "cell_type": "markdown",
   "id": "1cf83d17",
   "metadata": {},
   "source": [
    "3 methods\n",
    "1) Using sys.version method.(you have to \"import sys \")\n",
    "2) Using python_version() function.(you have to\"from platform import python_version\")\n",
    "3) Using Python -V command (this is for cmd)"
   ]
  },
  {
   "cell_type": "code",
   "execution_count": 16,
   "id": "ad4dda28",
   "metadata": {},
   "outputs": [
    {
     "data": {
      "text/plain": [
       "'3.9.13 (main, Aug 25 2022, 23:51:50) [MSC v.1916 64 bit (AMD64)]'"
      ]
     },
     "execution_count": 16,
     "metadata": {},
     "output_type": "execute_result"
    }
   ],
   "source": [
    "import sys\n",
    "sys.version\n"
   ]
  },
  {
   "cell_type": "code",
   "execution_count": 18,
   "id": "6c5a7bd9",
   "metadata": {},
   "outputs": [
    {
     "name": "stdout",
     "output_type": "stream",
     "text": [
      "3.9.13\n"
     ]
    }
   ],
   "source": [
    "from platform import python_version\n",
    "print(python_version())"
   ]
  },
  {
   "cell_type": "markdown",
   "id": "95b8e5e8",
   "metadata": {},
   "source": [
    "**3. Write a Python program to display the current date and\n",
    "time.**"
   ]
  },
  {
   "cell_type": "code",
   "execution_count": 5,
   "id": "dae15849",
   "metadata": {},
   "outputs": [
    {
     "name": "stdout",
     "output_type": "stream",
     "text": [
      "Time now is 2022-11-11 14:25:56.649280\n"
     ]
    }
   ],
   "source": [
    "import datetime\n",
    "a=datetime.datetime.now()   #datetime.now() is a method contains the year,month,day,hour,minute,second,and microsecond\n",
    "print(\"Time now is\",a)"
   ]
  },
  {
   "cell_type": "markdown",
   "id": "518fb631",
   "metadata": {},
   "source": [
    "**4. Write a Python program which accepts the radius of a\n",
    "circle from the user and compute the area.**"
   ]
  },
  {
   "cell_type": "code",
   "execution_count": 10,
   "id": "23c4b052",
   "metadata": {},
   "outputs": [
    {
     "name": "stdout",
     "output_type": "stream",
     "text": [
      "enter a radius of circle:1\n",
      "area of circle is :  3.142857142857143\n"
     ]
    }
   ],
   "source": [
    "r=int(input(\"enter a radius of circle:\"))\n",
    "a= (r*r)*(22/7)\n",
    "print(\"area of circle is : \", a)"
   ]
  },
  {
   "cell_type": "markdown",
   "id": "b0eaa2cb",
   "metadata": {},
   "source": [
    "**5. Write a Python program which accepts the user's first and\n",
    "last name and print them in reverse order with a space\n",
    "between them.**"
   ]
  },
  {
   "cell_type": "code",
   "execution_count": 1,
   "id": "7aad23a0",
   "metadata": {},
   "outputs": [
    {
     "name": "stdout",
     "output_type": "stream",
     "text": [
      "Enter your first name:Chirag\n",
      "Enter your last name:Satwani\n",
      "Satwani Chirag\n"
     ]
    }
   ],
   "source": [
    "a=input(\"Enter your first name:\")\n",
    "b=input(\"Enter your last name:\")\n",
    "print(b,a)"
   ]
  },
  {
   "cell_type": "markdown",
   "id": "6ba94130",
   "metadata": {},
   "source": [
    "**6. Write a Python program which accepts a sequence of\n",
    "comma-separated numbers from user and generate a list and a\n",
    "tuple with those numbers.\n",
    "Sample data : 3, 5, 7, 23\n",
    "Output :\n",
    "List : ['3', ' 5', ' 7', ' 23']\n",
    "Tuple : ('3', ' 5', ' 7', ' 23')**"
   ]
  },
  {
   "cell_type": "raw",
   "id": "c7fdebdb",
   "metadata": {},
   "source": [
    "# python List:- a list is a container which holds comma separated values between square brackets.\n",
    "  pyton tuple:- a tuple is container which holds a series of comma separated values between parentheses\n",
    "                 e.g.:  (x,y)  coordinate"
   ]
  },
  {
   "cell_type": "code",
   "execution_count": 2,
   "id": "5a120e53",
   "metadata": {},
   "outputs": [
    {
     "name": "stdout",
     "output_type": "stream",
     "text": [
      "input some comma separated numbers:3,5,7,23\n",
      "list: ['3', '5', '7', '23']\n",
      "tuple: ('3', '5', '7', '23')\n"
     ]
    }
   ],
   "source": [
    "values=input(\"input some comma separated numbers:\")\n",
    "list=values.split(\",\")\n",
    "tuple=tuple(list)\n",
    "print('list:',list)\n",
    "print('tuple:',tuple)"
   ]
  },
  {
   "cell_type": "markdown",
   "id": "de18f438",
   "metadata": {},
   "source": [
    "**7. Write a Python program to accept a filename from the user\n",
    "and print the extension of that.\n",
    "Sample filename : abc.java\n",
    "Output : java**"
   ]
  },
  {
   "cell_type": "code",
   "execution_count": 11,
   "id": "af533ee6",
   "metadata": {},
   "outputs": [
    {
     "name": "stdout",
     "output_type": "stream",
     "text": [
      "enter name of file:abc.java\n",
      "file extension is: java\n"
     ]
    }
   ],
   "source": [
    "a=input(\"enter name of file:\")\n",
    "b=a.split(\".\")\n",
    "print(\"file extension is:\",b[1])"
   ]
  },
  {
   "cell_type": "markdown",
   "id": "084939c8",
   "metadata": {},
   "source": [
    "**8. Write a Python program to display the first and last\n",
    "colors from the following list.\n",
    "color_list = [\"Red\",\"Green\",\"White\" ,\"Black\"]**"
   ]
  },
  {
   "cell_type": "code",
   "execution_count": 16,
   "id": "251843f6",
   "metadata": {},
   "outputs": [
    {
     "name": "stdout",
     "output_type": "stream",
     "text": [
      "Red Black\n"
     ]
    }
   ],
   "source": [
    " a = [\"Red\",\"Green\",\"White\" ,\"Black\"]\n",
    "print(a[0],a[-1])"
   ]
  },
  {
   "cell_type": "markdown",
   "id": "6765daf1",
   "metadata": {},
   "source": [
    "**9. Write a Python program to display the examination\n",
    "schedule. (extract the date from exam_st_date).\n",
    "exam_st_date = (11, 12, 2014)\n",
    "Sample Output : The examination will start from : 11 / 12 /\n",
    "2014**"
   ]
  },
  {
   "cell_type": "code",
   "execution_count": 13,
   "id": "12ce3bd0",
   "metadata": {},
   "outputs": [
    {
     "name": "stdout",
     "output_type": "stream",
     "text": [
      "examination will start from: 11 / 12 / 2014\n"
     ]
    }
   ],
   "source": [
    "a = (11, 12, 2014)\n",
    "print(\"examination will start from: %i / %i / %i\"%a)"
   ]
  },
  {
   "cell_type": "markdown",
   "id": "c71a206b",
   "metadata": {},
   "source": [
    "**10. Write a Python program that accepts an integer (n) and\n",
    "computes the value of n+nn+nnn.**"
   ]
  },
  {
   "cell_type": "code",
   "execution_count": 20,
   "id": "00ab7a6d",
   "metadata": {},
   "outputs": [
    {
     "name": "stdout",
     "output_type": "stream",
     "text": [
      "Enter a value:5\n",
      "615\n"
     ]
    }
   ],
   "source": [
    "n=int(input(\"Enter a value:\"))\n",
    "n1=int(\"%i\"%n)\n",
    "n2=int(\"%i%i\"%(n,n))\n",
    "n3=int(\"%i%i%i\"%(n,n,n))\n",
    "print(n1+n2+n3)"
   ]
  },
  {
   "cell_type": "markdown",
   "id": "6d1ff2e9",
   "metadata": {},
   "source": [
    "**11. Write a Python program to print the documents (syntax,\n",
    "description etc.) of Python built-in function(s).\n",
    "Sample function : abs()\n",
    "Expected Result :\n",
    "abs(number) -> number\n",
    "Return the absolute value of the argument.**"
   ]
  },
  {
   "cell_type": "code",
   "execution_count": 23,
   "id": "14544ce5",
   "metadata": {},
   "outputs": [
    {
     "name": "stdout",
     "output_type": "stream",
     "text": [
      "Return the absolute value of the argument.\n"
     ]
    }
   ],
   "source": [
    "print(abs.__doc__)"
   ]
  },
  {
   "cell_type": "markdown",
   "id": "9be0785c",
   "metadata": {},
   "source": [
    "**12. Write a Python program to print the calendar of a given\n",
    "month and year.\n",
    "Note : Use 'calendar' module.**"
   ]
  },
  {
   "cell_type": "code",
   "execution_count": 6,
   "id": "6e456c48",
   "metadata": {},
   "outputs": [
    {
     "name": "stdout",
     "output_type": "stream",
     "text": [
      "enter a month1\n",
      "enter a year22\n",
      "calender of the month is:      January 22\n",
      "Mo Tu We Th Fr Sa Su\n",
      "                1  2\n",
      " 3  4  5  6  7  8  9\n",
      "10 11 12 13 14 15 16\n",
      "17 18 19 20 21 22 23\n",
      "24 25 26 27 28 29 30\n",
      "31\n",
      "\n"
     ]
    }
   ],
   "source": [
    "import calendar\n",
    "a=int(input(\"enter a month\"))\n",
    "b=int(input(\"enter a year\"))\n",
    "print(\"calender of the month is:\",calendar.month(b,a))"
   ]
  },
  {
   "cell_type": "code",
   "execution_count": 9,
   "id": "9dce6e56",
   "metadata": {},
   "outputs": [
    {
     "name": "stdout",
     "output_type": "stream",
     "text": [
      "a string that you \"don't\" have to escape\n",
      "This\n",
      "is a ....... multi-line\n",
      "heredoc string --------> example\n"
     ]
    }
   ],
   "source": [
    "print(\"\"\"a string that you \"don't\" have to escape\n",
    "This\n",
    "is a ....... multi-line\n",
    "heredoc string --------> example\"\"\")"
   ]
  },
  {
   "cell_type": "markdown",
   "id": "ab437f22",
   "metadata": {},
   "source": [
    "**14. Write a Python program to calculate number of days\n",
    "between two dates.\n",
    "Sample dates : (2014, 7, 2), (2014, 7, 11)\n",
    "Expected output : 9 days**"
   ]
  },
  {
   "cell_type": "code",
   "execution_count": 4,
   "id": "c45ee96b",
   "metadata": {},
   "outputs": [
    {
     "name": "stdout",
     "output_type": "stream",
     "text": [
      "no. of days= 9 days, 0:00:00\n"
     ]
    }
   ],
   "source": [
    "from datetime import date\n",
    "d0=date(2014,7,2)\n",
    "d1=date(2014,7,11)\n",
    "print(\"no. of days=\",d1-d0)\n",
    "\n"
   ]
  },
  {
   "cell_type": "markdown",
   "id": "c4bd4991",
   "metadata": {},
   "source": [
    "**15. Write a Python program to get the volume of a sphere with\n",
    "radius 6.**"
   ]
  },
  {
   "cell_type": "code",
   "execution_count": 18,
   "id": "bb6c7fbf",
   "metadata": {},
   "outputs": [
    {
     "name": "stdout",
     "output_type": "stream",
     "text": [
      "volume of sphere is: 904.3199999999999\n"
     ]
    }
   ],
   "source": [
    "r=6\n",
    "pi=3.14\n",
    "v=(4/3)*pi*(r**3)\n",
    "print(\"volume of sphere is:\",v)"
   ]
  },
  {
   "cell_type": "markdown",
   "id": "ef91c8b9",
   "metadata": {},
   "source": [
    "**16. Write a Python program to get the difference between a\n",
    "given number and 17, if the number is greater than 17 return\n",
    "double the absolute difference.**"
   ]
  },
  {
   "cell_type": "code",
   "execution_count": 22,
   "id": "2cf3bdd7",
   "metadata": {},
   "outputs": [
    {
     "name": "stdout",
     "output_type": "stream",
     "text": [
      "Enter a no.:18\n",
      "2\n"
     ]
    }
   ],
   "source": [
    "a=int(input(\"Enter a no.:\"))\n",
    "b=17\n",
    "if(a<17):\n",
    "    print(\"difference is:\",b-a)\n",
    "else:\n",
    "    print(2*abs(b-a))\n",
    "        "
   ]
  },
  {
   "cell_type": "code",
   "execution_count": 24,
   "id": "5ca53bb0",
   "metadata": {},
   "outputs": [
    {
     "name": "stdout",
     "output_type": "stream",
     "text": [
      "4\n"
     ]
    }
   ],
   "source": [
    "print(2*abs(1-3))"
   ]
  },
  {
   "cell_type": "markdown",
   "id": "f2a93de8",
   "metadata": {},
   "source": [
    "//abs() function is used to calculate value in absolute terms"
   ]
  },
  {
   "cell_type": "markdown",
   "id": "027252f8",
   "metadata": {},
   "source": [
    "**17. Write a Python program to test whether a number is within\n",
    "100 of 1000 or 2000.**"
   ]
  },
  {
   "cell_type": "code",
   "execution_count": 26,
   "id": "deca2ee6",
   "metadata": {},
   "outputs": [
    {
     "name": "stdout",
     "output_type": "stream",
     "text": [
      "True\n",
      "False\n",
      "True\n",
      "True\n",
      "False\n"
     ]
    }
   ],
   "source": [
    "#what is def function:\n",
    "    #def is the keyword for defining a function.the return statement determines the value to be returned.\n",
    "\n",
    "def check(n):\n",
    "    return((abs(1000-n)<=100)or (abs(2000-n)<=100))\n",
    "print(check(1000))\n",
    "print(check(520))\n",
    "print(check(900))\n",
    "print(check(2100))\n",
    "print(check(2500))"
   ]
  },
  {
   "cell_type": "markdown",
   "id": "5fb38e9f",
   "metadata": {},
   "source": [
    "**18. Write a Python program to calculate the sum of three\n",
    "input numbers, if the values are equal then return three\n",
    "times of their sum.**"
   ]
  },
  {
   "cell_type": "code",
   "execution_count": 29,
   "id": "f64f43fe",
   "metadata": {},
   "outputs": [
    {
     "name": "stdout",
     "output_type": "stream",
     "text": [
      "Enter 1st no.:10\n",
      "Enter 2nd no.:20\n",
      "Enter 3rd no.:30\n",
      "60\n"
     ]
    }
   ],
   "source": [
    "n1=int(input(\"Enter 1st no.:\"))\n",
    "n2=int(input(\"Enter 2nd no.:\"))\n",
    "n3=int(input(\"Enter 3rd no.:\"))\n",
    "sum=n1+n2+n3\n",
    "if(n1==n2==n3):\n",
    "    print(3*(sum))\n",
    "else:\n",
    "    print(sum)"
   ]
  },
  {
   "cell_type": "markdown",
   "id": "aafb9bd0",
   "metadata": {},
   "source": [
    "**19. Write a Python program to get a new string from a given\n",
    "string where \"Is\" has been added to the front. If the given string already begins with \"Is\" then return the string\n",
    "unchanged.**"
   ]
  },
  {
   "cell_type": "code",
   "execution_count": 32,
   "id": "732eab2b",
   "metadata": {},
   "outputs": [
    {
     "name": "stdout",
     "output_type": "stream",
     "text": [
      "enter a string:prize\n",
      "Isprize\n"
     ]
    }
   ],
   "source": [
    "string=input(\"enter a string:\")\n",
    "if(string.startswith(\"is\")):\n",
    "    print(string)\n",
    "else:\n",
    "    print(\"Is\"+string)"
   ]
  },
  {
   "cell_type": "code",
   "execution_count": 33,
   "id": "a66369a3",
   "metadata": {},
   "outputs": [],
   "source": [
    "#The startswith() method returns True if the string starts with the specified value, otherwise False."
   ]
  },
  {
   "cell_type": "markdown",
   "id": "3c430f7b",
   "metadata": {},
   "source": [
    "**20. Write a Python program to get a string which is n\n",
    "(non-negative integer) copies of a given string.**"
   ]
  },
  {
   "cell_type": "code",
   "execution_count": null,
   "id": "1eb2673c",
   "metadata": {},
   "outputs": [],
   "source": [
    "n=int(input(\"Enter a copies of string\"))\n"
   ]
  }
 ],
 "metadata": {
  "kernelspec": {
   "display_name": "Python 3 (ipykernel)",
   "language": "python",
   "name": "python3"
  },
  "language_info": {
   "codemirror_mode": {
    "name": "ipython",
    "version": 3
   },
   "file_extension": ".py",
   "mimetype": "text/x-python",
   "name": "python",
   "nbconvert_exporter": "python",
   "pygments_lexer": "ipython3",
   "version": "3.9.13"
  }
 },
 "nbformat": 4,
 "nbformat_minor": 5
}
