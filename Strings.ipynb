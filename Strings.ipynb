{
 "cells": [
  {
   "cell_type": "markdown",
   "id": "29fca364",
   "metadata": {},
   "source": [
    "** String is a collection of characters**"
   ]
  },
  {
   "cell_type": "code",
   "execution_count": 1,
   "id": "5f70eaeb",
   "metadata": {},
   "outputs": [
    {
     "name": "stdout",
     "output_type": "stream",
     "text": [
      "indore\n",
      "<class 'str'>\n"
     ]
    }
   ],
   "source": [
    "s=\"indore\"\n",
    "print(s)\n",
    "print(type(s))"
   ]
  },
  {
   "cell_type": "code",
   "execution_count": 2,
   "id": "731822e4",
   "metadata": {},
   "outputs": [
    {
     "name": "stdout",
     "output_type": "stream",
     "text": [
      "n\n"
     ]
    }
   ],
   "source": [
    "print(s[1])"
   ]
  },
  {
   "cell_type": "code",
   "execution_count": 3,
   "id": "1711520e",
   "metadata": {},
   "outputs": [
    {
     "ename": "TypeError",
     "evalue": "'str' object does not support item assignment",
     "output_type": "error",
     "traceback": [
      "\u001b[1;31m---------------------------------------------------------------------------\u001b[0m",
      "\u001b[1;31mTypeError\u001b[0m                                 Traceback (most recent call last)",
      "\u001b[1;32m~\\AppData\\Local\\Temp\\ipykernel_5232\\3241376584.py\u001b[0m in \u001b[0;36m<module>\u001b[1;34m\u001b[0m\n\u001b[0;32m      1\u001b[0m \u001b[0ms\u001b[0m\u001b[1;33m=\u001b[0m\u001b[1;34m\"India\"\u001b[0m\u001b[1;33m\u001b[0m\u001b[1;33m\u001b[0m\u001b[0m\n\u001b[1;32m----> 2\u001b[1;33m \u001b[0ms\u001b[0m\u001b[1;33m[\u001b[0m\u001b[1;36m1\u001b[0m\u001b[1;33m]\u001b[0m\u001b[1;33m=\u001b[0m\u001b[1;34m'A'\u001b[0m\u001b[1;33m\u001b[0m\u001b[1;33m\u001b[0m\u001b[0m\n\u001b[0m\u001b[0;32m      3\u001b[0m \u001b[0mprint\u001b[0m\u001b[1;33m(\u001b[0m\u001b[0ms\u001b[0m\u001b[1;33m)\u001b[0m\u001b[1;33m\u001b[0m\u001b[1;33m\u001b[0m\u001b[0m\n",
      "\u001b[1;31mTypeError\u001b[0m: 'str' object does not support item assignment"
     ]
    }
   ],
   "source": [
    "s=\"India\"\n",
    "s[1]='A'\n",
    "print(s)"
   ]
  },
  {
   "cell_type": "markdown",
   "id": "c9991789",
   "metadata": {},
   "source": [
    "**String are immutable.\n",
    "i.e. you cannot manipulate string**"
   ]
  },
  {
   "cell_type": "code",
   "execution_count": 4,
   "id": "d809e11b",
   "metadata": {},
   "outputs": [
    {
     "name": "stdout",
     "output_type": "stream",
     "text": [
      "Goa\n"
     ]
    }
   ],
   "source": [
    "s=\"India\"\n",
    "s=\"Goa\"\n",
    "print(s)\n"
   ]
  },
  {
   "cell_type": "code",
   "execution_count": 5,
   "id": "9297c07e",
   "metadata": {},
   "outputs": [
    {
     "data": {
      "text/plain": [
       "'AB'"
      ]
     },
     "execution_count": 5,
     "metadata": {},
     "output_type": "execute_result"
    }
   ],
   "source": [
    "\"A\"+\"B\""
   ]
  },
  {
   "cell_type": "markdown",
   "id": "a2c2be8a",
   "metadata": {},
   "source": [
    " * 1+2=3\n",
    "   but 1!=2\n",
    "   Therefore integers are immutable"
   ]
  },
  {
   "cell_type": "code",
   "execution_count": 6,
   "id": "9c3d9a51",
   "metadata": {},
   "outputs": [
    {
     "ename": "TypeError",
     "evalue": "can only concatenate str (not \"int\") to str",
     "output_type": "error",
     "traceback": [
      "\u001b[1;31m---------------------------------------------------------------------------\u001b[0m",
      "\u001b[1;31mTypeError\u001b[0m                                 Traceback (most recent call last)",
      "\u001b[1;32m~\\AppData\\Local\\Temp\\ipykernel_5232\\3867182308.py\u001b[0m in \u001b[0;36m<module>\u001b[1;34m\u001b[0m\n\u001b[1;32m----> 1\u001b[1;33m \u001b[1;34m\"A\"\u001b[0m\u001b[1;33m+\u001b[0m\u001b[1;36m16\u001b[0m\u001b[1;33m\u001b[0m\u001b[1;33m\u001b[0m\u001b[0m\n\u001b[0m",
      "\u001b[1;31mTypeError\u001b[0m: can only concatenate str (not \"int\") to str"
     ]
    }
   ],
   "source": [
    "\"A\"+16"
   ]
  },
  {
   "cell_type": "code",
   "execution_count": 7,
   "id": "8a1aea1d",
   "metadata": {},
   "outputs": [
    {
     "data": {
      "text/plain": [
       "'AAA'"
      ]
     },
     "execution_count": 7,
     "metadata": {},
     "output_type": "execute_result"
    }
   ],
   "source": [
    "\"A\"*3   #multiplication can be performed"
   ]
  },
  {
   "cell_type": "markdown",
   "id": "8a620e69",
   "metadata": {},
   "source": [
    "* Triple couma"
   ]
  },
  {
   "cell_type": "code",
   "execution_count": 8,
   "id": "35afb6dc",
   "metadata": {},
   "outputs": [
    {
     "name": "stdout",
     "output_type": "stream",
     "text": [
      "\n",
      "   this is an apple \n",
      "   hello apple\n",
      "<class 'str'>\n"
     ]
    }
   ],
   "source": [
    "s='''\n",
    "   this is an apple \n",
    "   hello apple'''\n",
    "print(s)\n",
    "print(type(s))"
   ]
  },
  {
   "cell_type": "markdown",
   "id": "143f9614",
   "metadata": {},
   "source": [
    " * triple couma enables you to perform multi line comments"
   ]
  },
  {
   "cell_type": "code",
   "execution_count": 9,
   "id": "7ff79640",
   "metadata": {},
   "outputs": [
    {
     "name": "stdout",
     "output_type": "stream",
     "text": [
      "100\n",
      "<class 'str'>\n"
     ]
    }
   ],
   "source": [
    "a=str(100)\n",
    "print(a)\n",
    "print(type(a))"
   ]
  },
  {
   "cell_type": "markdown",
   "id": "401f2a76",
   "metadata": {},
   "source": [
    "**boolean function**"
   ]
  },
  {
   "cell_type": "code",
   "execution_count": 1,
   "id": "cdb92ac3",
   "metadata": {},
   "outputs": [
    {
     "name": "stdout",
     "output_type": "stream",
     "text": [
      "False\n"
     ]
    }
   ],
   "source": [
    "print(bool(0))"
   ]
  },
  {
   "cell_type": "code",
   "execution_count": 2,
   "id": "739a2fcb",
   "metadata": {},
   "outputs": [
    {
     "name": "stdout",
     "output_type": "stream",
     "text": [
      "True\n"
     ]
    }
   ],
   "source": [
    "print(bool(1))"
   ]
  },
  {
   "cell_type": "code",
   "execution_count": 3,
   "id": "bb1ad284",
   "metadata": {},
   "outputs": [
    {
     "name": "stdout",
     "output_type": "stream",
     "text": [
      "True\n"
     ]
    }
   ],
   "source": [
    "print(bool(10))"
   ]
  },
  {
   "cell_type": "markdown",
   "id": "56e2e110",
   "metadata": {},
   "source": [
    "* why except 0 every no. is true?\n",
    "  because if we put input any no. , then its binary will be calculated and it will be considered as high voltage and 0 is considered as low voltage. Therefore 0 reflects False output & any other no. reflects True."
   ]
  },
  {
   "cell_type": "code",
   "execution_count": 4,
   "id": "1c59c568",
   "metadata": {},
   "outputs": [
    {
     "name": "stdout",
     "output_type": "stream",
     "text": [
      "True\n"
     ]
    }
   ],
   "source": [
    "print(bool(\"A\"))         # ASCII A=65 => True\n"
   ]
  },
  {
   "cell_type": "code",
   "execution_count": 5,
   "id": "a6ed710d",
   "metadata": {},
   "outputs": [
    {
     "name": "stdout",
     "output_type": "stream",
     "text": [
      "False\n"
     ]
    }
   ],
   "source": [
    "print(bool())"
   ]
  },
  {
   "cell_type": "markdown",
   "id": "25aa54bf",
   "metadata": {},
   "source": [
    "**String slicing**"
   ]
  },
  {
   "cell_type": "code",
   "execution_count": 7,
   "id": "3c5fc626",
   "metadata": {},
   "outputs": [
    {
     "name": "stdout",
     "output_type": "stream",
     "text": [
      "communication\n"
     ]
    }
   ],
   "source": [
    "s=\"communication\"\n",
    "print(s)"
   ]
  },
  {
   "cell_type": "code",
   "execution_count": 8,
   "id": "eb42748c",
   "metadata": {},
   "outputs": [
    {
     "name": "stdout",
     "output_type": "stream",
     "text": [
      "mmunic\n"
     ]
    }
   ],
   "source": [
    "print(s[2:8])"
   ]
  },
  {
   "cell_type": "code",
   "execution_count": 9,
   "id": "5312c1d0",
   "metadata": {},
   "outputs": [
    {
     "name": "stdout",
     "output_type": "stream",
     "text": [
      "c\n"
     ]
    }
   ],
   "source": [
    "print(s[0:1])"
   ]
  },
  {
   "cell_type": "code",
   "execution_count": 11,
   "id": "c78e4d62",
   "metadata": {},
   "outputs": [
    {
     "name": "stdout",
     "output_type": "stream",
     "text": [
      "noitacinummoc\n"
     ]
    }
   ],
   "source": [
    "print(s[::-1])     #reverse string"
   ]
  },
  {
   "cell_type": "code",
   "execution_count": 12,
   "id": "384884ea",
   "metadata": {},
   "outputs": [
    {
     "name": "stdout",
     "output_type": "stream",
     "text": [
      "cmuiain\n"
     ]
    }
   ],
   "source": [
    "print(s[::2])      # wors exactly like list slicing"
   ]
  },
  {
   "cell_type": "markdown",
   "id": "abe8a06c",
   "metadata": {},
   "source": [
    "Qn. W.a.p. to enter a string from user and check if it is pallindrome string. without using slicing."
   ]
  },
  {
   "cell_type": "code",
   "execution_count": 15,
   "id": "60e14dba",
   "metadata": {},
   "outputs": [
    {
     "name": "stdout",
     "output_type": "stream",
     "text": [
      "Enter a string:level\n",
      "pallindrome\n"
     ]
    }
   ],
   "source": [
    "s=input(\"Enter a string:\")\n",
    "i=len(s)-1\n",
    "p=''\n",
    "while i>=0:\n",
    "    p=p+s[i]\n",
    "    i-=1\n",
    "if p==s:\n",
    "    print(\"pallindrome\")\n",
    "else:\n",
    "    print(\"non pallindrome\")\n",
    "    "
   ]
  },
  {
   "cell_type": "markdown",
   "id": "9e5619ee",
   "metadata": {},
   "source": [
    "W.a.p to enter a string from a user and print length of the string without using len function."
   ]
  },
  {
   "cell_type": "code",
   "execution_count": 31,
   "id": "11ec7fe8",
   "metadata": {},
   "outputs": [
    {
     "name": "stdout",
     "output_type": "stream",
     "text": [
      "Enter a string:python\n",
      "6\n"
     ]
    }
   ],
   "source": [
    "s=input(\"Enter a string:\")\n",
    "len=0\n",
    "for i in s:\n",
    "    len=len+1\n",
    "print(len)"
   ]
  },
  {
   "cell_type": "code",
   "execution_count": 7,
   "id": "49bf42fe",
   "metadata": {},
   "outputs": [
    {
     "name": "stdout",
     "output_type": "stream",
     "text": [
      "Enter a string:python\n",
      "6\n"
     ]
    }
   ],
   "source": [
    "s=input(\"Enter a string:\")\n",
    "len=0\n",
    "i=0\n",
    "while s[len:]:\n",
    "    len=len+1\n",
    "print(len)"
   ]
  },
  {
   "cell_type": "markdown",
   "id": "8db1058d",
   "metadata": {},
   "source": [
    "**String Functon**"
   ]
  },
  {
   "cell_type": "code",
   "execution_count": 1,
   "id": "ce368faf",
   "metadata": {},
   "outputs": [
    {
     "name": "stdout",
     "output_type": "stream",
     "text": [
      "9\n",
      "u\n",
      "A\n"
     ]
    }
   ],
   "source": [
    "a=\"Australia\"\n",
    "print(len(a))\n",
    "print(max(a))\n",
    "print(min(a))"
   ]
  },
  {
   "cell_type": "code",
   "execution_count": 2,
   "id": "e6a8c1f2",
   "metadata": {},
   "outputs": [
    {
     "ename": "TypeError",
     "evalue": "unsupported operand type(s) for +: 'int' and 'str'",
     "output_type": "error",
     "traceback": [
      "\u001b[1;31m---------------------------------------------------------------------------\u001b[0m",
      "\u001b[1;31mTypeError\u001b[0m                                 Traceback (most recent call last)",
      "\u001b[1;32m~\\AppData\\Local\\Temp\\ipykernel_5044\\3267827178.py\u001b[0m in \u001b[0;36m<module>\u001b[1;34m\u001b[0m\n\u001b[1;32m----> 1\u001b[1;33m \u001b[0mprint\u001b[0m\u001b[1;33m(\u001b[0m\u001b[0msum\u001b[0m\u001b[1;33m(\u001b[0m\u001b[0ma\u001b[0m\u001b[1;33m)\u001b[0m\u001b[1;33m)\u001b[0m\u001b[1;33m\u001b[0m\u001b[1;33m\u001b[0m\u001b[0m\n\u001b[0m",
      "\u001b[1;31mTypeError\u001b[0m: unsupported operand type(s) for +: 'int' and 'str'"
     ]
    }
   ],
   "source": [
    "print(sum(a))"
   ]
  },
  {
   "cell_type": "markdown",
   "id": "16e8d9d6",
   "metadata": {},
   "source": [
    "# string methods"
   ]
  },
  {
   "cell_type": "code",
   "execution_count": 3,
   "id": "7c7cc4ab",
   "metadata": {},
   "outputs": [
    {
     "name": "stdout",
     "output_type": "stream",
     "text": [
      "Help on class str in module builtins:\n",
      "\n",
      "class str(object)\n",
      " |  str(object='') -> str\n",
      " |  str(bytes_or_buffer[, encoding[, errors]]) -> str\n",
      " |  \n",
      " |  Create a new string object from the given object. If encoding or\n",
      " |  errors is specified, then the object must expose a data buffer\n",
      " |  that will be decoded using the given encoding and error handler.\n",
      " |  Otherwise, returns the result of object.__str__() (if defined)\n",
      " |  or repr(object).\n",
      " |  encoding defaults to sys.getdefaultencoding().\n",
      " |  errors defaults to 'strict'.\n",
      " |  \n",
      " |  Methods defined here:\n",
      " |  \n",
      " |  __add__(self, value, /)\n",
      " |      Return self+value.\n",
      " |  \n",
      " |  __contains__(self, key, /)\n",
      " |      Return key in self.\n",
      " |  \n",
      " |  __eq__(self, value, /)\n",
      " |      Return self==value.\n",
      " |  \n",
      " |  __format__(self, format_spec, /)\n",
      " |      Return a formatted version of the string as described by format_spec.\n",
      " |  \n",
      " |  __ge__(self, value, /)\n",
      " |      Return self>=value.\n",
      " |  \n",
      " |  __getattribute__(self, name, /)\n",
      " |      Return getattr(self, name).\n",
      " |  \n",
      " |  __getitem__(self, key, /)\n",
      " |      Return self[key].\n",
      " |  \n",
      " |  __getnewargs__(...)\n",
      " |  \n",
      " |  __gt__(self, value, /)\n",
      " |      Return self>value.\n",
      " |  \n",
      " |  __hash__(self, /)\n",
      " |      Return hash(self).\n",
      " |  \n",
      " |  __iter__(self, /)\n",
      " |      Implement iter(self).\n",
      " |  \n",
      " |  __le__(self, value, /)\n",
      " |      Return self<=value.\n",
      " |  \n",
      " |  __len__(self, /)\n",
      " |      Return len(self).\n",
      " |  \n",
      " |  __lt__(self, value, /)\n",
      " |      Return self<value.\n",
      " |  \n",
      " |  __mod__(self, value, /)\n",
      " |      Return self%value.\n",
      " |  \n",
      " |  __mul__(self, value, /)\n",
      " |      Return self*value.\n",
      " |  \n",
      " |  __ne__(self, value, /)\n",
      " |      Return self!=value.\n",
      " |  \n",
      " |  __repr__(self, /)\n",
      " |      Return repr(self).\n",
      " |  \n",
      " |  __rmod__(self, value, /)\n",
      " |      Return value%self.\n",
      " |  \n",
      " |  __rmul__(self, value, /)\n",
      " |      Return value*self.\n",
      " |  \n",
      " |  __sizeof__(self, /)\n",
      " |      Return the size of the string in memory, in bytes.\n",
      " |  \n",
      " |  __str__(self, /)\n",
      " |      Return str(self).\n",
      " |  \n",
      " |  capitalize(self, /)\n",
      " |      Return a capitalized version of the string.\n",
      " |      \n",
      " |      More specifically, make the first character have upper case and the rest lower\n",
      " |      case.\n",
      " |  \n",
      " |  casefold(self, /)\n",
      " |      Return a version of the string suitable for caseless comparisons.\n",
      " |  \n",
      " |  center(self, width, fillchar=' ', /)\n",
      " |      Return a centered string of length width.\n",
      " |      \n",
      " |      Padding is done using the specified fill character (default is a space).\n",
      " |  \n",
      " |  count(...)\n",
      " |      S.count(sub[, start[, end]]) -> int\n",
      " |      \n",
      " |      Return the number of non-overlapping occurrences of substring sub in\n",
      " |      string S[start:end].  Optional arguments start and end are\n",
      " |      interpreted as in slice notation.\n",
      " |  \n",
      " |  encode(self, /, encoding='utf-8', errors='strict')\n",
      " |      Encode the string using the codec registered for encoding.\n",
      " |      \n",
      " |      encoding\n",
      " |        The encoding in which to encode the string.\n",
      " |      errors\n",
      " |        The error handling scheme to use for encoding errors.\n",
      " |        The default is 'strict' meaning that encoding errors raise a\n",
      " |        UnicodeEncodeError.  Other possible values are 'ignore', 'replace' and\n",
      " |        'xmlcharrefreplace' as well as any other name registered with\n",
      " |        codecs.register_error that can handle UnicodeEncodeErrors.\n",
      " |  \n",
      " |  endswith(...)\n",
      " |      S.endswith(suffix[, start[, end]]) -> bool\n",
      " |      \n",
      " |      Return True if S ends with the specified suffix, False otherwise.\n",
      " |      With optional start, test S beginning at that position.\n",
      " |      With optional end, stop comparing S at that position.\n",
      " |      suffix can also be a tuple of strings to try.\n",
      " |  \n",
      " |  expandtabs(self, /, tabsize=8)\n",
      " |      Return a copy where all tab characters are expanded using spaces.\n",
      " |      \n",
      " |      If tabsize is not given, a tab size of 8 characters is assumed.\n",
      " |  \n",
      " |  find(...)\n",
      " |      S.find(sub[, start[, end]]) -> int\n",
      " |      \n",
      " |      Return the lowest index in S where substring sub is found,\n",
      " |      such that sub is contained within S[start:end].  Optional\n",
      " |      arguments start and end are interpreted as in slice notation.\n",
      " |      \n",
      " |      Return -1 on failure.\n",
      " |  \n",
      " |  format(...)\n",
      " |      S.format(*args, **kwargs) -> str\n",
      " |      \n",
      " |      Return a formatted version of S, using substitutions from args and kwargs.\n",
      " |      The substitutions are identified by braces ('{' and '}').\n",
      " |  \n",
      " |  format_map(...)\n",
      " |      S.format_map(mapping) -> str\n",
      " |      \n",
      " |      Return a formatted version of S, using substitutions from mapping.\n",
      " |      The substitutions are identified by braces ('{' and '}').\n",
      " |  \n",
      " |  index(...)\n",
      " |      S.index(sub[, start[, end]]) -> int\n",
      " |      \n",
      " |      Return the lowest index in S where substring sub is found,\n",
      " |      such that sub is contained within S[start:end].  Optional\n",
      " |      arguments start and end are interpreted as in slice notation.\n",
      " |      \n",
      " |      Raises ValueError when the substring is not found.\n",
      " |  \n",
      " |  isalnum(self, /)\n",
      " |      Return True if the string is an alpha-numeric string, False otherwise.\n",
      " |      \n",
      " |      A string is alpha-numeric if all characters in the string are alpha-numeric and\n",
      " |      there is at least one character in the string.\n",
      " |  \n",
      " |  isalpha(self, /)\n",
      " |      Return True if the string is an alphabetic string, False otherwise.\n",
      " |      \n",
      " |      A string is alphabetic if all characters in the string are alphabetic and there\n",
      " |      is at least one character in the string.\n",
      " |  \n",
      " |  isascii(self, /)\n",
      " |      Return True if all characters in the string are ASCII, False otherwise.\n",
      " |      \n",
      " |      ASCII characters have code points in the range U+0000-U+007F.\n",
      " |      Empty string is ASCII too.\n",
      " |  \n",
      " |  isdecimal(self, /)\n",
      " |      Return True if the string is a decimal string, False otherwise.\n",
      " |      \n",
      " |      A string is a decimal string if all characters in the string are decimal and\n",
      " |      there is at least one character in the string.\n",
      " |  \n",
      " |  isdigit(self, /)\n",
      " |      Return True if the string is a digit string, False otherwise.\n",
      " |      \n",
      " |      A string is a digit string if all characters in the string are digits and there\n",
      " |      is at least one character in the string.\n",
      " |  \n",
      " |  isidentifier(self, /)\n",
      " |      Return True if the string is a valid Python identifier, False otherwise.\n",
      " |      \n",
      " |      Call keyword.iskeyword(s) to test whether string s is a reserved identifier,\n",
      " |      such as \"def\" or \"class\".\n",
      " |  \n",
      " |  islower(self, /)\n",
      " |      Return True if the string is a lowercase string, False otherwise.\n",
      " |      \n",
      " |      A string is lowercase if all cased characters in the string are lowercase and\n",
      " |      there is at least one cased character in the string.\n",
      " |  \n",
      " |  isnumeric(self, /)\n",
      " |      Return True if the string is a numeric string, False otherwise.\n",
      " |      \n",
      " |      A string is numeric if all characters in the string are numeric and there is at\n",
      " |      least one character in the string.\n",
      " |  \n",
      " |  isprintable(self, /)\n",
      " |      Return True if the string is printable, False otherwise.\n",
      " |      \n",
      " |      A string is printable if all of its characters are considered printable in\n",
      " |      repr() or if it is empty.\n",
      " |  \n",
      " |  isspace(self, /)\n",
      " |      Return True if the string is a whitespace string, False otherwise.\n",
      " |      \n",
      " |      A string is whitespace if all characters in the string are whitespace and there\n",
      " |      is at least one character in the string.\n",
      " |  \n",
      " |  istitle(self, /)\n",
      " |      Return True if the string is a title-cased string, False otherwise.\n",
      " |      \n",
      " |      In a title-cased string, upper- and title-case characters may only\n",
      " |      follow uncased characters and lowercase characters only cased ones.\n",
      " |  \n",
      " |  isupper(self, /)\n",
      " |      Return True if the string is an uppercase string, False otherwise.\n",
      " |      \n",
      " |      A string is uppercase if all cased characters in the string are uppercase and\n",
      " |      there is at least one cased character in the string.\n",
      " |  \n",
      " |  join(self, iterable, /)\n",
      " |      Concatenate any number of strings.\n",
      " |      \n",
      " |      The string whose method is called is inserted in between each given string.\n",
      " |      The result is returned as a new string.\n",
      " |      \n",
      " |      Example: '.'.join(['ab', 'pq', 'rs']) -> 'ab.pq.rs'\n",
      " |  \n",
      " |  ljust(self, width, fillchar=' ', /)\n",
      " |      Return a left-justified string of length width.\n",
      " |      \n",
      " |      Padding is done using the specified fill character (default is a space).\n",
      " |  \n",
      " |  lower(self, /)\n",
      " |      Return a copy of the string converted to lowercase.\n",
      " |  \n",
      " |  lstrip(self, chars=None, /)\n",
      " |      Return a copy of the string with leading whitespace removed.\n",
      " |      \n",
      " |      If chars is given and not None, remove characters in chars instead.\n",
      " |  \n",
      " |  partition(self, sep, /)\n",
      " |      Partition the string into three parts using the given separator.\n",
      " |      \n",
      " |      This will search for the separator in the string.  If the separator is found,\n",
      " |      returns a 3-tuple containing the part before the separator, the separator\n",
      " |      itself, and the part after it.\n",
      " |      \n",
      " |      If the separator is not found, returns a 3-tuple containing the original string\n",
      " |      and two empty strings.\n",
      " |  \n",
      " |  removeprefix(self, prefix, /)\n",
      " |      Return a str with the given prefix string removed if present.\n",
      " |      \n",
      " |      If the string starts with the prefix string, return string[len(prefix):].\n",
      " |      Otherwise, return a copy of the original string.\n",
      " |  \n",
      " |  removesuffix(self, suffix, /)\n",
      " |      Return a str with the given suffix string removed if present.\n",
      " |      \n",
      " |      If the string ends with the suffix string and that suffix is not empty,\n",
      " |      return string[:-len(suffix)]. Otherwise, return a copy of the original\n",
      " |      string.\n",
      " |  \n",
      " |  replace(self, old, new, count=-1, /)\n",
      " |      Return a copy with all occurrences of substring old replaced by new.\n",
      " |      \n",
      " |        count\n",
      " |          Maximum number of occurrences to replace.\n",
      " |          -1 (the default value) means replace all occurrences.\n",
      " |      \n",
      " |      If the optional argument count is given, only the first count occurrences are\n",
      " |      replaced.\n",
      " |  \n",
      " |  rfind(...)\n",
      " |      S.rfind(sub[, start[, end]]) -> int\n",
      " |      \n",
      " |      Return the highest index in S where substring sub is found,\n",
      " |      such that sub is contained within S[start:end].  Optional\n",
      " |      arguments start and end are interpreted as in slice notation.\n",
      " |      \n",
      " |      Return -1 on failure.\n",
      " |  \n",
      " |  rindex(...)\n",
      " |      S.rindex(sub[, start[, end]]) -> int\n",
      " |      \n",
      " |      Return the highest index in S where substring sub is found,\n",
      " |      such that sub is contained within S[start:end].  Optional\n",
      " |      arguments start and end are interpreted as in slice notation.\n",
      " |      \n",
      " |      Raises ValueError when the substring is not found.\n",
      " |  \n",
      " |  rjust(self, width, fillchar=' ', /)\n",
      " |      Return a right-justified string of length width.\n",
      " |      \n",
      " |      Padding is done using the specified fill character (default is a space).\n",
      " |  \n",
      " |  rpartition(self, sep, /)\n",
      " |      Partition the string into three parts using the given separator.\n",
      " |      \n",
      " |      This will search for the separator in the string, starting at the end. If\n",
      " |      the separator is found, returns a 3-tuple containing the part before the\n",
      " |      separator, the separator itself, and the part after it.\n",
      " |      \n",
      " |      If the separator is not found, returns a 3-tuple containing two empty strings\n",
      " |      and the original string.\n",
      " |  \n",
      " |  rsplit(self, /, sep=None, maxsplit=-1)\n",
      " |      Return a list of the words in the string, using sep as the delimiter string.\n",
      " |      \n",
      " |        sep\n",
      " |          The delimiter according which to split the string.\n",
      " |          None (the default value) means split according to any whitespace,\n",
      " |          and discard empty strings from the result.\n",
      " |        maxsplit\n",
      " |          Maximum number of splits to do.\n",
      " |          -1 (the default value) means no limit.\n",
      " |      \n",
      " |      Splits are done starting at the end of the string and working to the front.\n",
      " |  \n",
      " |  rstrip(self, chars=None, /)\n",
      " |      Return a copy of the string with trailing whitespace removed.\n",
      " |      \n",
      " |      If chars is given and not None, remove characters in chars instead.\n",
      " |  \n",
      " |  split(self, /, sep=None, maxsplit=-1)\n",
      " |      Return a list of the words in the string, using sep as the delimiter string.\n",
      " |      \n",
      " |      sep\n",
      " |        The delimiter according which to split the string.\n",
      " |        None (the default value) means split according to any whitespace,\n",
      " |        and discard empty strings from the result.\n",
      " |      maxsplit\n",
      " |        Maximum number of splits to do.\n",
      " |        -1 (the default value) means no limit.\n",
      " |  \n",
      " |  splitlines(self, /, keepends=False)\n",
      " |      Return a list of the lines in the string, breaking at line boundaries.\n",
      " |      \n",
      " |      Line breaks are not included in the resulting list unless keepends is given and\n",
      " |      true.\n",
      " |  \n",
      " |  startswith(...)\n",
      " |      S.startswith(prefix[, start[, end]]) -> bool\n",
      " |      \n",
      " |      Return True if S starts with the specified prefix, False otherwise.\n",
      " |      With optional start, test S beginning at that position.\n",
      " |      With optional end, stop comparing S at that position.\n",
      " |      prefix can also be a tuple of strings to try.\n",
      " |  \n",
      " |  strip(self, chars=None, /)\n",
      " |      Return a copy of the string with leading and trailing whitespace removed.\n",
      " |      \n",
      " |      If chars is given and not None, remove characters in chars instead.\n",
      " |  \n",
      " |  swapcase(self, /)\n",
      " |      Convert uppercase characters to lowercase and lowercase characters to uppercase.\n",
      " |  \n",
      " |  title(self, /)\n",
      " |      Return a version of the string where each word is titlecased.\n",
      " |      \n",
      " |      More specifically, words start with uppercased characters and all remaining\n",
      " |      cased characters have lower case.\n",
      " |  \n",
      " |  translate(self, table, /)\n",
      " |      Replace each character in the string using the given translation table.\n",
      " |      \n",
      " |        table\n",
      " |          Translation table, which must be a mapping of Unicode ordinals to\n",
      " |          Unicode ordinals, strings, or None.\n",
      " |      \n",
      " |      The table must implement lookup/indexing via __getitem__, for instance a\n",
      " |      dictionary or list.  If this operation raises LookupError, the character is\n",
      " |      left untouched.  Characters mapped to None are deleted.\n",
      " |  \n",
      " |  upper(self, /)\n",
      " |      Return a copy of the string converted to uppercase.\n",
      " |  \n",
      " |  zfill(self, width, /)\n",
      " |      Pad a numeric string with zeros on the left, to fill a field of the given width.\n",
      " |      \n",
      " |      The string is never truncated.\n",
      " |  \n",
      " |  ----------------------------------------------------------------------\n",
      " |  Static methods defined here:\n",
      " |  \n",
      " |  __new__(*args, **kwargs) from builtins.type\n",
      " |      Create and return a new object.  See help(type) for accurate signature.\n",
      " |  \n",
      " |  maketrans(...)\n",
      " |      Return a translation table usable for str.translate().\n",
      " |      \n",
      " |      If there is only one argument, it must be a dictionary mapping Unicode\n",
      " |      ordinals (integers) or characters to Unicode ordinals, strings or None.\n",
      " |      Character keys will be then converted to ordinals.\n",
      " |      If there are two arguments, they must be strings of equal length, and\n",
      " |      in the resulting dictionary, each character in x will be mapped to the\n",
      " |      character at the same position in y. If there is a third argument, it\n",
      " |      must be a string, whose characters will be mapped to None in the result.\n",
      "\n"
     ]
    }
   ],
   "source": [
    "help(str)"
   ]
  },
  {
   "cell_type": "markdown",
   "id": "cceded7b",
   "metadata": {},
   "source": [
    "**split method**"
   ]
  },
  {
   "cell_type": "markdown",
   "id": "5fb8faa8",
   "metadata": {},
   "source": [
    "*string is immutable, no change in orginal data."
   ]
  },
  {
   "cell_type": "code",
   "execution_count": 9,
   "id": "5d104036",
   "metadata": {},
   "outputs": [
    {
     "name": "stdout",
     "output_type": "stream",
     "text": [
      "['This', 'is', 'an', 'apple']\n"
     ]
    }
   ],
   "source": [
    "s=\"This is an apple\"\n",
    "r=s.split(\" \")\n",
    "print(r)"
   ]
  },
  {
   "cell_type": "code",
   "execution_count": 10,
   "id": "6e216c05",
   "metadata": {},
   "outputs": [
    {
     "name": "stdout",
     "output_type": "stream",
     "text": [
      "['Th', ' ', ' an apple']\n"
     ]
    }
   ],
   "source": [
    "r=s.split(\"is\")\n",
    "print(r)"
   ]
  },
  {
   "cell_type": "code",
   "execution_count": 12,
   "id": "284066cd",
   "metadata": {},
   "outputs": [
    {
     "name": "stdout",
     "output_type": "stream",
     "text": [
      "['This is ', 'n ', 'pple']\n"
     ]
    }
   ],
   "source": [
    "r=s.split(\"a\")\n",
    "print(r)"
   ]
  },
  {
   "cell_type": "markdown",
   "id": "0e940507",
   "metadata": {},
   "source": [
    "**upper and lower**"
   ]
  },
  {
   "cell_type": "code",
   "execution_count": 13,
   "id": "8ce983d3",
   "metadata": {},
   "outputs": [
    {
     "name": "stdout",
     "output_type": "stream",
     "text": [
      "INDIA\n"
     ]
    }
   ],
   "source": [
    "s=\"India\"\n",
    "print(s.upper())"
   ]
  },
  {
   "cell_type": "code",
   "execution_count": 14,
   "id": "18e38f36",
   "metadata": {},
   "outputs": [
    {
     "name": "stdout",
     "output_type": "stream",
     "text": [
      "india\n"
     ]
    }
   ],
   "source": [
    "print(s.lower())"
   ]
  },
  {
   "cell_type": "markdown",
   "id": "ebece549",
   "metadata": {},
   "source": [
    "**capitalize method**"
   ]
  },
  {
   "cell_type": "code",
   "execution_count": 15,
   "id": "2a6ea3d4",
   "metadata": {},
   "outputs": [
    {
     "name": "stdout",
     "output_type": "stream",
     "text": [
      "This is indore\n"
     ]
    }
   ],
   "source": [
    "s=\"this is indore\"\n",
    "print(s.capitalize())"
   ]
  },
  {
   "cell_type": "markdown",
   "id": "c6fbd40f",
   "metadata": {},
   "source": [
    "*this will convert initial character of phrase to capital letter"
   ]
  },
  {
   "cell_type": "markdown",
   "id": "ed529ea7",
   "metadata": {},
   "source": [
    "**join method**"
   ]
  },
  {
   "cell_type": "code",
   "execution_count": 2,
   "id": "eb502f72",
   "metadata": {
    "scrolled": true
   },
   "outputs": [
    {
     "name": "stdout",
     "output_type": "stream",
     "text": [
      "indore A best\n"
     ]
    }
   ],
   "source": [
    "l=['indore','A','best']\n",
    "r=\" \".join(l)\n",
    "print(r)                   # space is also a string therefore we can call it by using  .join()"
   ]
  },
  {
   "cell_type": "code",
   "execution_count": 4,
   "id": "113efec7",
   "metadata": {},
   "outputs": [
    {
     "name": "stdout",
     "output_type": "stream",
     "text": [
      "indore+A+best\n"
     ]
    }
   ],
   "source": [
    "r=\"+\".join(l)\n",
    "print(r)"
   ]
  },
  {
   "cell_type": "code",
   "execution_count": 5,
   "id": "cfc706f3",
   "metadata": {},
   "outputs": [
    {
     "name": "stdout",
     "output_type": "stream",
     "text": [
      "indoreAbest\n"
     ]
    }
   ],
   "source": [
    "r=\"\".join(l)\n",
    "print(r)"
   ]
  },
  {
   "cell_type": "markdown",
   "id": "ddf437d9",
   "metadata": {},
   "source": [
    "**replace method**"
   ]
  },
  {
   "cell_type": "code",
   "execution_count": 6,
   "id": "48eabb1d",
   "metadata": {},
   "outputs": [
    {
     "name": "stdout",
     "output_type": "stream",
     "text": [
      "rohit is the best. rohit is a batsman\n"
     ]
    }
   ],
   "source": [
    "s='virat is the best. virat is a batsman'\n",
    "r=s.replace(\"virat\",\"rohit\")\n",
    "print(r)"
   ]
  },
  {
   "cell_type": "code",
   "execution_count": 7,
   "id": "d6b1b497",
   "metadata": {},
   "outputs": [
    {
     "name": "stdout",
     "output_type": "stream",
     "text": [
      "rohit is the best. virat is a batsman\n"
     ]
    }
   ],
   "source": [
    "r=s.replace(\"virat\",\"rohit\",1)\n",
    "print(r)"
   ]
  },
  {
   "cell_type": "markdown",
   "id": "0f027191",
   "metadata": {},
   "source": [
    "Qn. s=\"1+2+3+4+5\". convert in list and calculate sum."
   ]
  },
  {
   "cell_type": "code",
   "execution_count": 10,
   "id": "0149a6be",
   "metadata": {},
   "outputs": [
    {
     "name": "stdout",
     "output_type": "stream",
     "text": [
      "['1', '2', '3', '4', '5']\n",
      "sum= 15\n"
     ]
    }
   ],
   "source": [
    "s=\"1+2+3+4+5\"\n",
    "l=s.split(\"+\")\n",
    "print(l)\n",
    "s=0\n",
    "i=0\n",
    "while i<len(l):\n",
    "    s=s+int(l[i])                  #as split method will convert in list which is in string format\n",
    "    i+=1\n",
    "print(\"sum=\",s)\n",
    "    "
   ]
  },
  {
   "cell_type": "markdown",
   "id": "c7a475a3",
   "metadata": {},
   "source": [
    "Qn. l=\"1+2*3-4/5\".   print sum=15\n"
   ]
  },
  {
   "cell_type": "code",
   "execution_count": 27,
   "id": "8dfc726a",
   "metadata": {},
   "outputs": [
    {
     "name": "stdout",
     "output_type": "stream",
     "text": [
      "['1', '2', '3', '4', '5']\n",
      "sum= 15\n"
     ]
    }
   ],
   "source": [
    "l=\"1+2*3-4/5\"\n",
    "r=l.split('+')\n",
    "r=\" \".join(r)\n",
    "r=r.split('*')\n",
    "r=\" \".join(r)\n",
    "r=r.split('-')\n",
    "r=\" \".join(r)\n",
    "r=r.split('/')\n",
    "r=' '.join(r)\n",
    "r=r.split(' ')\n",
    "print(r)\n",
    "\n",
    "i=0\n",
    "s=0\n",
    "while i <len(r):\n",
    "    s=s+int(r[i])\n",
    "    i+=1\n",
    "print(\"sum=\",s)"
   ]
  },
  {
   "cell_type": "code",
   "execution_count": 38,
   "id": "12823a31",
   "metadata": {},
   "outputs": [
    {
     "name": "stdout",
     "output_type": "stream",
     "text": [
      "sum= 15\n"
     ]
    }
   ],
   "source": [
    "l=\"1+2*3-4/5\"\n",
    "i=0\n",
    "s=0\n",
    "while i<len(l):\n",
    "    s=s+int(l[i])\n",
    "    i+=2\n",
    "print(\"sum=\",s)"
   ]
  },
  {
   "cell_type": "markdown",
   "id": "d078b004",
   "metadata": {},
   "source": [
    "Qn. W.a.p. to enter a sentence from user and print the largest word in it."
   ]
  },
  {
   "cell_type": "code",
   "execution_count": 44,
   "id": "c9652786",
   "metadata": {
    "scrolled": true
   },
   "outputs": [
    {
     "name": "stdout",
     "output_type": "stream",
     "text": [
      "Enter a string:this is an apple\n",
      "['this', 'is', 'an', 'apple']\n",
      "apple\n"
     ]
    }
   ],
   "source": [
    "l=input(\"Enter a string:\")\n",
    "r=l.split(' ')\n",
    "print(r)\n",
    "\n",
    "i=0\n",
    "j=i+1\n",
    "while i<len(r)-1:\n",
    "    if len(r[j])>len(r[i]):\n",
    "        maximum=r[j]\n",
    "    i+=1\n",
    "    j+=1\n",
    "    \n",
    "\n",
    "print(maximum)\n"
   ]
  },
  {
   "cell_type": "markdown",
   "id": "bebb1c1f",
   "metadata": {},
   "source": [
    "Qn. *Algorithm question*\n",
    "w.a.p to find a number which is divisible by all no. between 1 to 20.\n",
    "e.g. 2520 is divisible by 1 to 10 all"
   ]
  },
  {
   "cell_type": "code",
   "execution_count": 10,
   "id": "83c25d16",
   "metadata": {},
   "outputs": [
    {
     "name": "stdout",
     "output_type": "stream",
     "text": [
      "no. is dvisible by all no. between 1 to 10 is 232792560\n"
     ]
    }
   ],
   "source": [
    "n=1\n",
    "i=1\n",
    "while i<=20:\n",
    "    if n%i==0:\n",
    "        i+=1\n",
    "    else:\n",
    "        n+=1\n",
    "        i=1\n",
    "print(\"no. is dvisible by all no. between 1 to 10 is\",n)"
   ]
  },
  {
   "cell_type": "markdown",
   "id": "048bffb1",
   "metadata": {},
   "source": [
    "Alternative of above:\n",
    "least no. which is divisible by all digits from 1 to 20 will be L.C.M. of 1 to 20."
   ]
  },
  {
   "cell_type": "code",
   "execution_count": null,
   "id": "958f2312",
   "metadata": {},
   "outputs": [],
   "source": []
  },
  {
   "cell_type": "markdown",
   "id": "c33159de",
   "metadata": {},
   "source": [
    "Qn. w.a.p to enter a string from user and print the string such that first character if repeated should be replaced by @.\n",
    "E.g. \"restart\" O/P: resta@t"
   ]
  },
  {
   "cell_type": "code",
   "execution_count": 37,
   "id": "8f336aa5",
   "metadata": {},
   "outputs": [
    {
     "name": "stdout",
     "output_type": "stream",
     "text": [
      "enter a string:restart\n",
      "resta@t\n"
     ]
    }
   ],
   "source": [
    "s=input(\"enter a string:\")\n",
    "print(s[0]+s[1:].replace(s[0],'@'))\n"
   ]
  },
  {
   "cell_type": "code",
   "execution_count": null,
   "id": "e6f1a9c0",
   "metadata": {},
   "outputs": [],
   "source": []
  }
 ],
 "metadata": {
  "kernelspec": {
   "display_name": "Python 3 (ipykernel)",
   "language": "python",
   "name": "python3"
  },
  "language_info": {
   "codemirror_mode": {
    "name": "ipython",
    "version": 3
   },
   "file_extension": ".py",
   "mimetype": "text/x-python",
   "name": "python",
   "nbconvert_exporter": "python",
   "pygments_lexer": "ipython3",
   "version": "3.9.13"
  }
 },
 "nbformat": 4,
 "nbformat_minor": 5
}
